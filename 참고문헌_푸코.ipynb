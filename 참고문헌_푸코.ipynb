{
 "cells": [
  {
   "cell_type": "code",
   "execution_count": 2,
   "metadata": {},
   "outputs": [],
   "source": [
    "import pandas as pd\n",
    "import ast\n",
    "# matplotlib 폰트설정\n",
    "import matplotlib.pyplot as plt\n",
    "# https://github.com/killiansheriff/LovelyPlots\n",
    "# plt.style.use(['ipynb','use_mathtext','colors5-light'])\n",
    "plt.rc('font', family='NanumGothic')\n",
    "# print(plt.rcParams['font.family'])\n",
    "plt.rcParams[\"figure.dpi\"] = 240 # DPI 고화질로 향상\n",
    "\n",
    "from scipy.stats import chi2_contingency\n",
    "from scipy.stats import fisher_exact\n",
    "from itertools import combinations\n",
    "from statsmodels.sandbox.stats.multicomp import MultiComparison\n",
    "from statsmodels.stats.multitest import multipletests\n",
    "import scipy.stats"
   ]
  },
  {
   "cell_type": "code",
   "execution_count": 3,
   "metadata": {},
   "outputs": [],
   "source": [
    "ref_08_19 = pd.read_excel('./2008_2019_한국현대문학_참고문헌_lod_merge.xlsx')\n",
    "ref_20_21 = pd.read_excel('./2020_2021_한국현대문학_참고문헌_라벨링.xlsx')\n",
    "foucault_cls = pd.read_excel('./2008_2019_한국현대문학_참고문헌_lod_merge.xlsx', sheet_name='푸코 책 목록')"
   ]
  },
  {
   "cell_type": "code",
   "execution_count": 3,
   "metadata": {},
   "outputs": [
    {
     "data": {
      "text/plain": [
       "Index(['refebibl-id', 'artiId', 'type-code', 'type-name', 'title', 'author',\n",
       "       'pubilisher', 'pubi-year', 'page', 'arti-id', 'journal-name', 'volume',\n",
       "       'isseue', 'serno', 'doi', 'degree', 'university', 'department', 'url',\n",
       "       'citation-day', 'site-name', 'registration-day', 'conference-name',\n",
       "       'uri', 'lod_author', 'lod_author_id', 'lod_publisher', 'lod_label',\n",
       "       'lod_alternative', 'classification'],\n",
       "      dtype='object')"
      ]
     },
     "execution_count": 3,
     "metadata": {},
     "output_type": "execute_result"
    }
   ],
   "source": [
    "# 컬럼 확인\n",
    "ref_08_19.columns"
   ]
  },
  {
   "cell_type": "code",
   "execution_count": 4,
   "metadata": {},
   "outputs": [],
   "source": [
    "def str_to_list(str):\n",
    "    try:\n",
    "        return ast.literal_eval(str)\n",
    "    except:\n",
    "        return str"
   ]
  },
  {
   "cell_type": "code",
   "execution_count": 5,
   "metadata": {},
   "outputs": [],
   "source": [
    "ref_08_19['lod_author'] = ref_08_19['lod_author'].map(lambda x:str_to_list(x))"
   ]
  },
  {
   "cell_type": "code",
   "execution_count": 6,
   "metadata": {},
   "outputs": [
    {
     "data": {
      "text/plain": [
       "Index(['refebibl-id', 'artiId', 'type-code', 'type-name', 'title', 'author',\n",
       "       'lod_author', 'uri', 'pubilisher', 'pubi-year', 'page', 'arti-id',\n",
       "       'journal-name', 'volume', 'isseue', 'serno', 'doi', 'degree',\n",
       "       'university', 'department', 'url', 'citation-day', 'site-name',\n",
       "       'registration-day', 'conference-name', 'classification'],\n",
       "      dtype='object')"
      ]
     },
     "execution_count": 6,
     "metadata": {},
     "output_type": "execute_result"
    }
   ],
   "source": [
    "# 컬럼 확인\n",
    "ref_20_21.columns"
   ]
  },
  {
   "cell_type": "code",
   "execution_count": 7,
   "metadata": {},
   "outputs": [],
   "source": [
    "need_cols= ['refebibl-id', 'artiId', 'type-code', 'type-name', 'title', 'uri', 'author','lod_author', 'classification',\n",
    "       'pubilisher', 'pubi-year', 'page', 'arti-id', 'journal-name', 'volume',\n",
    "       'isseue', 'serno', 'doi', 'degree', 'university', 'department', 'url',\n",
    "       'citation-day', 'site-name', 'registration-day', 'conference-name']"
   ]
  },
  {
   "cell_type": "code",
   "execution_count": 8,
   "metadata": {},
   "outputs": [],
   "source": [
    "# merge with need cols\n",
    "ref_df = pd.concat([ref_08_19[need_cols],ref_20_21[need_cols]],ignore_index=True)"
   ]
  },
  {
   "cell_type": "code",
   "execution_count": 9,
   "metadata": {},
   "outputs": [
    {
     "data": {
      "text/plain": [
       "326565"
      ]
     },
     "execution_count": 9,
     "metadata": {},
     "output_type": "execute_result"
    }
   ],
   "source": [
    "len(ref_df)"
   ]
  },
  {
   "cell_type": "code",
   "execution_count": 31,
   "metadata": {},
   "outputs": [],
   "source": [
    "def find_focau(row):\n",
    "    if type(row)==list:\n",
    "        if 'Foucault, Michel' in row:\n",
    "            return 'Foucault, Michel'\n",
    "        else:\n",
    "            row\n",
    "    else:\n",
    "        return row"
   ]
  },
  {
   "cell_type": "code",
   "execution_count": 32,
   "metadata": {},
   "outputs": [],
   "source": [
    "ref_df['lod_author'] = ref_df['lod_author'].map(lambda x:find_focau(x))"
   ]
  },
  {
   "cell_type": "code",
   "execution_count": 33,
   "metadata": {},
   "outputs": [
    {
     "data": {
      "text/plain": [
       "author\n",
       "김윤식              3583\n",
       "권영민              1011\n",
       "김재용               947\n",
       "이광수               915\n",
       "김현                881\n",
       "                 ... \n",
       "서울특별시 용산구           1\n",
       "진영태                 1\n",
       "Lee, Peter H.       1\n",
       "김성언                 1\n",
       "ZYX                 1\n",
       "Name: count, Length: 54091, dtype: int64"
      ]
     },
     "execution_count": 33,
     "metadata": {},
     "output_type": "execute_result"
    }
   ],
   "source": [
    "author_count = ref_df['author'].value_counts()\n",
    "author_count"
   ]
  },
  {
   "cell_type": "code",
   "execution_count": 88,
   "metadata": {},
   "outputs": [],
   "source": [
    "# author_count.to_excel('./2008_2021_저자인용.xlsx')"
   ]
  },
  {
   "cell_type": "code",
   "execution_count": 34,
   "metadata": {},
   "outputs": [
    {
     "data": {
      "text/html": [
       "<div>\n",
       "<style scoped>\n",
       "    .dataframe tbody tr th:only-of-type {\n",
       "        vertical-align: middle;\n",
       "    }\n",
       "\n",
       "    .dataframe tbody tr th {\n",
       "        vertical-align: top;\n",
       "    }\n",
       "\n",
       "    .dataframe thead th {\n",
       "        text-align: right;\n",
       "    }\n",
       "</style>\n",
       "<table border=\"1\" class=\"dataframe\">\n",
       "  <thead>\n",
       "    <tr style=\"text-align: right;\">\n",
       "      <th></th>\n",
       "      <th>refebibl-id</th>\n",
       "      <th>artiId</th>\n",
       "      <th>type-code</th>\n",
       "      <th>type-name</th>\n",
       "      <th>title</th>\n",
       "      <th>uri</th>\n",
       "      <th>author</th>\n",
       "      <th>lod_author</th>\n",
       "      <th>classification</th>\n",
       "      <th>pubilisher</th>\n",
       "      <th>...</th>\n",
       "      <th>serno</th>\n",
       "      <th>doi</th>\n",
       "      <th>degree</th>\n",
       "      <th>university</th>\n",
       "      <th>department</th>\n",
       "      <th>url</th>\n",
       "      <th>citation-day</th>\n",
       "      <th>site-name</th>\n",
       "      <th>registration-day</th>\n",
       "      <th>conference-name</th>\n",
       "    </tr>\n",
       "  </thead>\n",
       "  <tbody>\n",
       "    <tr>\n",
       "      <th>0</th>\n",
       "      <td>REF021919443</td>\n",
       "      <td>ART001422634</td>\n",
       "      <td>3</td>\n",
       "      <td>단행본</td>\n",
       "      <td>“사회를 보호해야 한다”:1976, 콜레주 드 프랑스에서의 강의</td>\n",
       "      <td>http://lod.nl.go.kr/resource/KMO199905885</td>\n",
       "      <td>미셸 푸코</td>\n",
       "      <td>Foucault, Michel</td>\n",
       "      <td>2.0</td>\n",
       "      <td>동문선</td>\n",
       "      <td>...</td>\n",
       "      <td>NaN</td>\n",
       "      <td>NaN</td>\n",
       "      <td>NaN</td>\n",
       "      <td>NaN</td>\n",
       "      <td>NaN</td>\n",
       "      <td>NaN</td>\n",
       "      <td>NaN</td>\n",
       "      <td>NaN</td>\n",
       "      <td>NaN</td>\n",
       "      <td>NaN</td>\n",
       "    </tr>\n",
       "    <tr>\n",
       "      <th>1</th>\n",
       "      <td>REF019445810</td>\n",
       "      <td>ART001351822</td>\n",
       "      <td>3</td>\n",
       "      <td>단행본</td>\n",
       "      <td>4장 Questions on Geography in : Power/Knowledge</td>\n",
       "      <td>http://lod.nl.go.kr/resource/KMO199500811</td>\n",
       "      <td>Michel Foucault</td>\n",
       "      <td>Foucault, Michel</td>\n",
       "      <td>2.0</td>\n",
       "      <td>The Harvest Press</td>\n",
       "      <td>...</td>\n",
       "      <td>NaN</td>\n",
       "      <td>NaN</td>\n",
       "      <td>NaN</td>\n",
       "      <td>NaN</td>\n",
       "      <td>NaN</td>\n",
       "      <td>NaN</td>\n",
       "      <td>NaN</td>\n",
       "      <td>NaN</td>\n",
       "      <td>NaN</td>\n",
       "      <td>NaN</td>\n",
       "    </tr>\n",
       "    <tr>\n",
       "      <th>2</th>\n",
       "      <td>REF040740322</td>\n",
       "      <td>ART002096865</td>\n",
       "      <td>3</td>\n",
       "      <td>단행본</td>\n",
       "      <td>감시와 처벌</td>\n",
       "      <td>http://lod.nl.go.kr/resource/KJU200904362</td>\n",
       "      <td>Foucault, Michel</td>\n",
       "      <td>Foucault, Michel</td>\n",
       "      <td>2.0</td>\n",
       "      <td>나남출판사</td>\n",
       "      <td>...</td>\n",
       "      <td>NaN</td>\n",
       "      <td>NaN</td>\n",
       "      <td>NaN</td>\n",
       "      <td>NaN</td>\n",
       "      <td>NaN</td>\n",
       "      <td>NaN</td>\n",
       "      <td>NaN</td>\n",
       "      <td>NaN</td>\n",
       "      <td>NaN</td>\n",
       "      <td>NaN</td>\n",
       "    </tr>\n",
       "    <tr>\n",
       "      <th>3</th>\n",
       "      <td>REF040739677</td>\n",
       "      <td>ART002118941</td>\n",
       "      <td>3</td>\n",
       "      <td>단행본</td>\n",
       "      <td>감시와 처벌</td>\n",
       "      <td>http://lod.nl.go.kr/resource/KJU200904362</td>\n",
       "      <td>Foucault, Michel</td>\n",
       "      <td>Foucault, Michel</td>\n",
       "      <td>2.0</td>\n",
       "      <td>나남출판사</td>\n",
       "      <td>...</td>\n",
       "      <td>NaN</td>\n",
       "      <td>NaN</td>\n",
       "      <td>NaN</td>\n",
       "      <td>NaN</td>\n",
       "      <td>NaN</td>\n",
       "      <td>NaN</td>\n",
       "      <td>NaN</td>\n",
       "      <td>NaN</td>\n",
       "      <td>NaN</td>\n",
       "      <td>NaN</td>\n",
       "    </tr>\n",
       "    <tr>\n",
       "      <th>4</th>\n",
       "      <td>REF044717581</td>\n",
       "      <td>ART002301010</td>\n",
       "      <td>3</td>\n",
       "      <td>단행본</td>\n",
       "      <td>감시와 처벌</td>\n",
       "      <td>http://lod.nl.go.kr/resource/KJU200904362</td>\n",
       "      <td>Foucault, Michel</td>\n",
       "      <td>Foucault, Michel</td>\n",
       "      <td>2.0</td>\n",
       "      <td>나남</td>\n",
       "      <td>...</td>\n",
       "      <td>NaN</td>\n",
       "      <td>NaN</td>\n",
       "      <td>NaN</td>\n",
       "      <td>NaN</td>\n",
       "      <td>NaN</td>\n",
       "      <td>NaN</td>\n",
       "      <td>NaN</td>\n",
       "      <td>NaN</td>\n",
       "      <td>NaN</td>\n",
       "      <td>NaN</td>\n",
       "    </tr>\n",
       "    <tr>\n",
       "      <th>...</th>\n",
       "      <td>...</td>\n",
       "      <td>...</td>\n",
       "      <td>...</td>\n",
       "      <td>...</td>\n",
       "      <td>...</td>\n",
       "      <td>...</td>\n",
       "      <td>...</td>\n",
       "      <td>...</td>\n",
       "      <td>...</td>\n",
       "      <td>...</td>\n",
       "      <td>...</td>\n",
       "      <td>...</td>\n",
       "      <td>...</td>\n",
       "      <td>...</td>\n",
       "      <td>...</td>\n",
       "      <td>...</td>\n",
       "      <td>...</td>\n",
       "      <td>...</td>\n",
       "      <td>...</td>\n",
       "      <td>...</td>\n",
       "      <td>...</td>\n",
       "    </tr>\n",
       "    <tr>\n",
       "      <th>821</th>\n",
       "      <td>REF056328409</td>\n",
       "      <td>ART002669398</td>\n",
       "      <td>3</td>\n",
       "      <td>단행본</td>\n",
       "      <td>性의 歷史 1</td>\n",
       "      <td>http://lod.nl.go.kr/resource/KMO199003738</td>\n",
       "      <td>Michel Foucault</td>\n",
       "      <td>Foucault, Michel</td>\n",
       "      <td>2.0</td>\n",
       "      <td>나남출판</td>\n",
       "      <td>...</td>\n",
       "      <td>NaN</td>\n",
       "      <td>NaN</td>\n",
       "      <td>NaN</td>\n",
       "      <td>NaN</td>\n",
       "      <td>NaN</td>\n",
       "      <td>NaN</td>\n",
       "      <td>NaN</td>\n",
       "      <td>NaN</td>\n",
       "      <td>NaN</td>\n",
       "      <td>NaN</td>\n",
       "    </tr>\n",
       "    <tr>\n",
       "      <th>822</th>\n",
       "      <td>REF057938025</td>\n",
       "      <td>ART002692553</td>\n",
       "      <td>3</td>\n",
       "      <td>단행본</td>\n",
       "      <td>성의 역사 1 앎의 의지</td>\n",
       "      <td>http://lod.nl.go.kr/resource/KMO199003738</td>\n",
       "      <td>Michel Foucault</td>\n",
       "      <td>Foucault, Michel</td>\n",
       "      <td>2.0</td>\n",
       "      <td>나남</td>\n",
       "      <td>...</td>\n",
       "      <td>NaN</td>\n",
       "      <td>NaN</td>\n",
       "      <td>NaN</td>\n",
       "      <td>NaN</td>\n",
       "      <td>NaN</td>\n",
       "      <td>NaN</td>\n",
       "      <td>NaN</td>\n",
       "      <td>NaN</td>\n",
       "      <td>NaN</td>\n",
       "      <td>NaN</td>\n",
       "    </tr>\n",
       "    <tr>\n",
       "      <th>823</th>\n",
       "      <td>REF058208575</td>\n",
       "      <td>ART002734775</td>\n",
       "      <td>3</td>\n",
       "      <td>단행본</td>\n",
       "      <td>헤테로토피아</td>\n",
       "      <td>http://lod.nl.go.kr/resource/KMO201442004</td>\n",
       "      <td>Michel Foucault</td>\n",
       "      <td>Foucault, Michel</td>\n",
       "      <td>1.0</td>\n",
       "      <td>문학과 지성사</td>\n",
       "      <td>...</td>\n",
       "      <td>NaN</td>\n",
       "      <td>NaN</td>\n",
       "      <td>NaN</td>\n",
       "      <td>NaN</td>\n",
       "      <td>NaN</td>\n",
       "      <td>NaN</td>\n",
       "      <td>NaN</td>\n",
       "      <td>NaN</td>\n",
       "      <td>NaN</td>\n",
       "      <td>NaN</td>\n",
       "    </tr>\n",
       "    <tr>\n",
       "      <th>824</th>\n",
       "      <td>REF058080819</td>\n",
       "      <td>ART002743915</td>\n",
       "      <td>3</td>\n",
       "      <td>단행본</td>\n",
       "      <td>헤테로토피아</td>\n",
       "      <td>http://lod.nl.go.kr/resource/KMO201442004</td>\n",
       "      <td>Michel Foucault</td>\n",
       "      <td>Foucault, Michel</td>\n",
       "      <td>1.0</td>\n",
       "      <td>문학과지성사</td>\n",
       "      <td>...</td>\n",
       "      <td>NaN</td>\n",
       "      <td>NaN</td>\n",
       "      <td>NaN</td>\n",
       "      <td>NaN</td>\n",
       "      <td>NaN</td>\n",
       "      <td>NaN</td>\n",
       "      <td>NaN</td>\n",
       "      <td>NaN</td>\n",
       "      <td>NaN</td>\n",
       "      <td>NaN</td>\n",
       "    </tr>\n",
       "    <tr>\n",
       "      <th>825</th>\n",
       "      <td>REF055784026</td>\n",
       "      <td>ART002625133</td>\n",
       "      <td>3</td>\n",
       "      <td>단행본</td>\n",
       "      <td>Power/Knowledge: Selected Interviews &amp; Other W...</td>\n",
       "      <td>http://lod.nl.go.kr/resource/KMO199500811</td>\n",
       "      <td>Michel Foucault</td>\n",
       "      <td>Foucault, Michel</td>\n",
       "      <td>2.0</td>\n",
       "      <td>Patheon Books</td>\n",
       "      <td>...</td>\n",
       "      <td>NaN</td>\n",
       "      <td>NaN</td>\n",
       "      <td>NaN</td>\n",
       "      <td>NaN</td>\n",
       "      <td>NaN</td>\n",
       "      <td>NaN</td>\n",
       "      <td>NaN</td>\n",
       "      <td>NaN</td>\n",
       "      <td>NaN</td>\n",
       "      <td>NaN</td>\n",
       "    </tr>\n",
       "  </tbody>\n",
       "</table>\n",
       "<p>826 rows × 26 columns</p>\n",
       "</div>"
      ],
      "text/plain": [
       "      refebibl-id        artiId  type-code type-name  \\\n",
       "0    REF021919443  ART001422634          3       단행본   \n",
       "1    REF019445810  ART001351822          3       단행본   \n",
       "2    REF040740322  ART002096865          3       단행본   \n",
       "3    REF040739677  ART002118941          3       단행본   \n",
       "4    REF044717581  ART002301010          3       단행본   \n",
       "..            ...           ...        ...       ...   \n",
       "821  REF056328409  ART002669398          3       단행본   \n",
       "822  REF057938025  ART002692553          3       단행본   \n",
       "823  REF058208575  ART002734775          3       단행본   \n",
       "824  REF058080819  ART002743915          3       단행본   \n",
       "825  REF055784026  ART002625133          3       단행본   \n",
       "\n",
       "                                                 title  \\\n",
       "0                  “사회를 보호해야 한다”:1976, 콜레주 드 프랑스에서의 강의   \n",
       "1       4장 Questions on Geography in : Power/Knowledge   \n",
       "2                                               감시와 처벌   \n",
       "3                                               감시와 처벌   \n",
       "4                                               감시와 처벌   \n",
       "..                                                 ...   \n",
       "821                                            性의 歷史 1   \n",
       "822                                      성의 역사 1 앎의 의지   \n",
       "823                                             헤테로토피아   \n",
       "824                                             헤테로토피아   \n",
       "825  Power/Knowledge: Selected Interviews & Other W...   \n",
       "\n",
       "                                           uri            author  \\\n",
       "0    http://lod.nl.go.kr/resource/KMO199905885             미셸 푸코   \n",
       "1    http://lod.nl.go.kr/resource/KMO199500811   Michel Foucault   \n",
       "2    http://lod.nl.go.kr/resource/KJU200904362  Foucault, Michel   \n",
       "3    http://lod.nl.go.kr/resource/KJU200904362  Foucault, Michel   \n",
       "4    http://lod.nl.go.kr/resource/KJU200904362  Foucault, Michel   \n",
       "..                                         ...               ...   \n",
       "821  http://lod.nl.go.kr/resource/KMO199003738   Michel Foucault   \n",
       "822  http://lod.nl.go.kr/resource/KMO199003738   Michel Foucault   \n",
       "823  http://lod.nl.go.kr/resource/KMO201442004   Michel Foucault   \n",
       "824  http://lod.nl.go.kr/resource/KMO201442004   Michel Foucault   \n",
       "825  http://lod.nl.go.kr/resource/KMO199500811   Michel Foucault   \n",
       "\n",
       "           lod_author  classification         pubilisher  ... serno  doi  \\\n",
       "0    Foucault, Michel             2.0                동문선  ...   NaN  NaN   \n",
       "1    Foucault, Michel             2.0  The Harvest Press  ...   NaN  NaN   \n",
       "2    Foucault, Michel             2.0              나남출판사  ...   NaN  NaN   \n",
       "3    Foucault, Michel             2.0              나남출판사  ...   NaN  NaN   \n",
       "4    Foucault, Michel             2.0                 나남  ...   NaN  NaN   \n",
       "..                ...             ...                ...  ...   ...  ...   \n",
       "821  Foucault, Michel             2.0               나남출판  ...   NaN  NaN   \n",
       "822  Foucault, Michel             2.0                 나남  ...   NaN  NaN   \n",
       "823  Foucault, Michel             1.0            문학과 지성사  ...   NaN  NaN   \n",
       "824  Foucault, Michel             1.0             문학과지성사  ...   NaN  NaN   \n",
       "825  Foucault, Michel             2.0      Patheon Books  ...   NaN  NaN   \n",
       "\n",
       "    degree university department  url citation-day site-name registration-day  \\\n",
       "0      NaN        NaN        NaN  NaN          NaN       NaN              NaN   \n",
       "1      NaN        NaN        NaN  NaN          NaN       NaN              NaN   \n",
       "2      NaN        NaN        NaN  NaN          NaN       NaN              NaN   \n",
       "3      NaN        NaN        NaN  NaN          NaN       NaN              NaN   \n",
       "4      NaN        NaN        NaN  NaN          NaN       NaN              NaN   \n",
       "..     ...        ...        ...  ...          ...       ...              ...   \n",
       "821    NaN        NaN        NaN  NaN          NaN       NaN              NaN   \n",
       "822    NaN        NaN        NaN  NaN          NaN       NaN              NaN   \n",
       "823    NaN        NaN        NaN  NaN          NaN       NaN              NaN   \n",
       "824    NaN        NaN        NaN  NaN          NaN       NaN              NaN   \n",
       "825    NaN        NaN        NaN  NaN          NaN       NaN              NaN   \n",
       "\n",
       "    conference-name  \n",
       "0               NaN  \n",
       "1               NaN  \n",
       "2               NaN  \n",
       "3               NaN  \n",
       "4               NaN  \n",
       "..              ...  \n",
       "821             NaN  \n",
       "822             NaN  \n",
       "823             NaN  \n",
       "824             NaN  \n",
       "825             NaN  \n",
       "\n",
       "[826 rows x 26 columns]"
      ]
     },
     "execution_count": 34,
     "metadata": {},
     "output_type": "execute_result"
    }
   ],
   "source": [
    "ref_fu = ref_df[ref_df['lod_author']=='Foucault, Michel']\n",
    "ref_fu = ref_fu[ref_fu['classification']!=0].reset_index(drop=True)\n",
    "ref_fu"
   ]
  },
  {
   "cell_type": "code",
   "execution_count": 35,
   "metadata": {},
   "outputs": [
    {
     "data": {
      "text/plain": [
       "Index(['refebibl-id', 'artiId', 'type-code', 'type-name', 'title', 'uri',\n",
       "       'author', 'lod_author', 'classification', 'pubilisher', 'pubi-year',\n",
       "       'page', 'arti-id', 'journal-name', 'volume', 'isseue', 'serno', 'doi',\n",
       "       'degree', 'university', 'department', 'url', 'citation-day',\n",
       "       'site-name', 'registration-day', 'conference-name'],\n",
       "      dtype='object')"
      ]
     },
     "execution_count": 35,
     "metadata": {},
     "output_type": "execute_result"
    }
   ],
   "source": [
    "ref_df.columns"
   ]
  },
  {
   "cell_type": "code",
   "execution_count": 36,
   "metadata": {},
   "outputs": [
    {
     "data": {
      "text/plain": [
       "11941"
      ]
     },
     "execution_count": 36,
     "metadata": {},
     "output_type": "execute_result"
    }
   ],
   "source": [
    "ref_df['artiId'].nunique()"
   ]
  },
  {
   "cell_type": "code",
   "execution_count": 37,
   "metadata": {},
   "outputs": [
    {
     "data": {
      "text/plain": [
       "624"
      ]
     },
     "execution_count": 37,
     "metadata": {},
     "output_type": "execute_result"
    }
   ],
   "source": [
    "ref_fu['artiId'].nunique()"
   ]
  },
  {
   "cell_type": "code",
   "execution_count": 38,
   "metadata": {},
   "outputs": [
    {
     "data": {
      "text/plain": [
       "classification\n",
       "2.0    412\n",
       "1.0    297\n",
       "3.0     83\n",
       "4.0     34\n",
       "Name: count, dtype: int64"
      ]
     },
     "execution_count": 38,
     "metadata": {},
     "output_type": "execute_result"
    }
   ],
   "source": [
    "ref_fu['classification'].value_counts()"
   ]
  },
  {
   "cell_type": "markdown",
   "metadata": {},
   "source": [
    "### 논문 + 연구자 데이터 merge"
   ]
  },
  {
   "cell_type": "code",
   "execution_count": 39,
   "metadata": {},
   "outputs": [],
   "source": [
    "kci_liter = pd.read_excel('../Code//KCI/230312_kci_liter_김윤식 인용.xlsx')"
   ]
  },
  {
   "cell_type": "code",
   "execution_count": 41,
   "metadata": {},
   "outputs": [],
   "source": [
    "# 2008~\n",
    "kci_liter = kci_liter[kci_liter['year']>=2008].reset_index(drop=True)"
   ]
  },
  {
   "cell_type": "code",
   "execution_count": 42,
   "metadata": {},
   "outputs": [],
   "source": [
    "kci_liter_20_21 = pd.read_excel('../Data/인문학 분야의 등재지_등재후보지 논문 데이터/한국현대문학/2020_2021_한국현대문학_라벨링_논문상세API_KRI.xlsx')\n",
    "kci_liter_20_21 = kci_liter_20_21.drop(columns='현대문학')"
   ]
  },
  {
   "cell_type": "code",
   "execution_count": 43,
   "metadata": {},
   "outputs": [
    {
     "data": {
      "text/plain": [
       "265"
      ]
     },
     "execution_count": 43,
     "metadata": {},
     "output_type": "execute_result"
    }
   ],
   "source": [
    "# kri_num 없는 행 (추가 수집)\n",
    "len(kci_liter_20_21[pd.isna(kci_liter_20_21['kri_num'])])"
   ]
  },
  {
   "cell_type": "code",
   "execution_count": 24,
   "metadata": {},
   "outputs": [],
   "source": [
    "# kri 추가 수집건\n",
    "# kci_liter_20_21[pd.isna(kci_liter_20_21['kri_num'])].to_excel('./230907_kri_추가수집건.xlsx',index=None)"
   ]
  },
  {
   "cell_type": "code",
   "execution_count": 44,
   "metadata": {},
   "outputs": [
    {
     "data": {
      "text/html": [
       "<div>\n",
       "<style scoped>\n",
       "    .dataframe tbody tr th:only-of-type {\n",
       "        vertical-align: middle;\n",
       "    }\n",
       "\n",
       "    .dataframe tbody tr th {\n",
       "        vertical-align: top;\n",
       "    }\n",
       "\n",
       "    .dataframe thead th {\n",
       "        text-align: right;\n",
       "    }\n",
       "</style>\n",
       "<table border=\"1\" class=\"dataframe\">\n",
       "  <thead>\n",
       "    <tr style=\"text-align: right;\">\n",
       "      <th></th>\n",
       "      <th>논문ID</th>\n",
       "      <th>kri_num</th>\n",
       "      <th>birth</th>\n",
       "      <th>gender</th>\n",
       "      <th>univ</th>\n",
       "      <th>job</th>\n",
       "      <th>major</th>\n",
       "      <th>grad</th>\n",
       "      <th>diploma</th>\n",
       "    </tr>\n",
       "  </thead>\n",
       "  <tbody>\n",
       "    <tr>\n",
       "      <th>0</th>\n",
       "      <td>ART002576766</td>\n",
       "      <td>NaN</td>\n",
       "      <td>72.0</td>\n",
       "      <td>여</td>\n",
       "      <td>경상국립대학교</td>\n",
       "      <td>강사</td>\n",
       "      <td>현대시(국문학)</td>\n",
       "      <td>경상국립대학교</td>\n",
       "      <td>박사</td>\n",
       "    </tr>\n",
       "    <tr>\n",
       "      <th>1</th>\n",
       "      <td>ART002783543</td>\n",
       "      <td>NaN</td>\n",
       "      <td>72.0</td>\n",
       "      <td>여</td>\n",
       "      <td>경상국립대학교</td>\n",
       "      <td>강사</td>\n",
       "      <td>현대시(국문학)</td>\n",
       "      <td>경상국립대학교</td>\n",
       "      <td>박사</td>\n",
       "    </tr>\n",
       "    <tr>\n",
       "      <th>2</th>\n",
       "      <td>ART002625095</td>\n",
       "      <td>NaN</td>\n",
       "      <td>75.0</td>\n",
       "      <td>여</td>\n",
       "      <td>서울대학교</td>\n",
       "      <td>부교수</td>\n",
       "      <td>문화이론/대중문화론</td>\n",
       "      <td>서울대학교</td>\n",
       "      <td>박사</td>\n",
       "    </tr>\n",
       "    <tr>\n",
       "      <th>3</th>\n",
       "      <td>ART002753453</td>\n",
       "      <td>NaN</td>\n",
       "      <td>76.0</td>\n",
       "      <td>여</td>\n",
       "      <td>서울대학교</td>\n",
       "      <td>부교수</td>\n",
       "      <td>문화이론/대중문화론</td>\n",
       "      <td>서울대학교</td>\n",
       "      <td>박사</td>\n",
       "    </tr>\n",
       "    <tr>\n",
       "      <th>4</th>\n",
       "      <td>ART002613525</td>\n",
       "      <td>NaN</td>\n",
       "      <td>56.0</td>\n",
       "      <td>남</td>\n",
       "      <td>한국교원대학교</td>\n",
       "      <td>교수(퇴직)</td>\n",
       "      <td>현대소설(국문학)</td>\n",
       "      <td>연세대학교</td>\n",
       "      <td>박사</td>\n",
       "    </tr>\n",
       "    <tr>\n",
       "      <th>...</th>\n",
       "      <td>...</td>\n",
       "      <td>...</td>\n",
       "      <td>...</td>\n",
       "      <td>...</td>\n",
       "      <td>...</td>\n",
       "      <td>...</td>\n",
       "      <td>...</td>\n",
       "      <td>...</td>\n",
       "      <td>...</td>\n",
       "    </tr>\n",
       "    <tr>\n",
       "      <th>260</th>\n",
       "      <td>ART002789044</td>\n",
       "      <td>NaN</td>\n",
       "      <td>NaN</td>\n",
       "      <td>NaN</td>\n",
       "      <td>NaN</td>\n",
       "      <td>NaN</td>\n",
       "      <td>NaN</td>\n",
       "      <td>NaN</td>\n",
       "      <td>NaN</td>\n",
       "    </tr>\n",
       "    <tr>\n",
       "      <th>261</th>\n",
       "      <td>ART002790946</td>\n",
       "      <td>NaN</td>\n",
       "      <td>NaN</td>\n",
       "      <td>NaN</td>\n",
       "      <td>NaN</td>\n",
       "      <td>NaN</td>\n",
       "      <td>NaN</td>\n",
       "      <td>NaN</td>\n",
       "      <td>NaN</td>\n",
       "    </tr>\n",
       "    <tr>\n",
       "      <th>262</th>\n",
       "      <td>ART002802493</td>\n",
       "      <td>NaN</td>\n",
       "      <td>NaN</td>\n",
       "      <td>NaN</td>\n",
       "      <td>NaN</td>\n",
       "      <td>NaN</td>\n",
       "      <td>NaN</td>\n",
       "      <td>NaN</td>\n",
       "      <td>NaN</td>\n",
       "    </tr>\n",
       "    <tr>\n",
       "      <th>263</th>\n",
       "      <td>ART002802714</td>\n",
       "      <td>NaN</td>\n",
       "      <td>NaN</td>\n",
       "      <td>NaN</td>\n",
       "      <td>NaN</td>\n",
       "      <td>NaN</td>\n",
       "      <td>NaN</td>\n",
       "      <td>NaN</td>\n",
       "      <td>NaN</td>\n",
       "    </tr>\n",
       "    <tr>\n",
       "      <th>264</th>\n",
       "      <td>ART002802725</td>\n",
       "      <td>NaN</td>\n",
       "      <td>NaN</td>\n",
       "      <td>NaN</td>\n",
       "      <td>NaN</td>\n",
       "      <td>NaN</td>\n",
       "      <td>NaN</td>\n",
       "      <td>NaN</td>\n",
       "      <td>NaN</td>\n",
       "    </tr>\n",
       "  </tbody>\n",
       "</table>\n",
       "<p>265 rows × 9 columns</p>\n",
       "</div>"
      ],
      "text/plain": [
       "             논문ID  kri_num  birth gender     univ     job       major  \\\n",
       "0    ART002576766      NaN   72.0      여  경상국립대학교      강사    현대시(국문학)   \n",
       "1    ART002783543      NaN   72.0      여  경상국립대학교      강사    현대시(국문학)   \n",
       "2    ART002625095      NaN   75.0      여    서울대학교     부교수  문화이론/대중문화론   \n",
       "3    ART002753453      NaN   76.0      여    서울대학교     부교수  문화이론/대중문화론   \n",
       "4    ART002613525      NaN   56.0      남  한국교원대학교  교수(퇴직)   현대소설(국문학)   \n",
       "..            ...      ...    ...    ...      ...     ...         ...   \n",
       "260  ART002789044      NaN    NaN    NaN      NaN     NaN         NaN   \n",
       "261  ART002790946      NaN    NaN    NaN      NaN     NaN         NaN   \n",
       "262  ART002802493      NaN    NaN    NaN      NaN     NaN         NaN   \n",
       "263  ART002802714      NaN    NaN    NaN      NaN     NaN         NaN   \n",
       "264  ART002802725      NaN    NaN    NaN      NaN     NaN         NaN   \n",
       "\n",
       "        grad diploma  \n",
       "0    경상국립대학교      박사  \n",
       "1    경상국립대학교      박사  \n",
       "2      서울대학교      박사  \n",
       "3      서울대학교      박사  \n",
       "4      연세대학교      박사  \n",
       "..       ...     ...  \n",
       "260      NaN     NaN  \n",
       "261      NaN     NaN  \n",
       "262      NaN     NaN  \n",
       "263      NaN     NaN  \n",
       "264      NaN     NaN  \n",
       "\n",
       "[265 rows x 9 columns]"
      ]
     },
     "execution_count": 44,
     "metadata": {},
     "output_type": "execute_result"
    }
   ],
   "source": [
    "# kri 추가 수집건 Merge\n",
    "kci_liter_20_21_add = pd.read_excel('./230907_kri_추가수집건_입력.xlsx')\n",
    "kci_liter_20_21_add[['논문ID','kri_num', 'birth', 'gender', 'univ','job', 'major', 'grad', 'diploma']]"
   ]
  },
  {
   "cell_type": "code",
   "execution_count": 45,
   "metadata": {},
   "outputs": [],
   "source": [
    "# 컬럼 통일 후 merge\n",
    "kci_liter_20_21_add = kci_liter_20_21.loc[pd.isna(kci_liter_20_21['kri_num']),['논문ID', '논문명', '논문 외국어명', '학술지ID', '학술지 명', '학술지 외국어 명', '발행기관ID',\n",
    "       '발행기관 명', '발행기관 외국어 명', '등재 구분', '발행년월', '권', '호', '통권', '특별호', '시작페이지',\n",
    "       '끝페이지', '키워드(원어)', '키워드(외국어)', '초록(원어)', '초록(외국어)', '주제분야', '피인용횟수',\n",
    "       'URL', 'DOI', 'year', 'author-id', 'author-division', 'author-part',\n",
    "       'name', 'institution', 'artiId',]].merge(kci_liter_20_21_add[['논문ID','kri_num', 'birth', 'gender', 'univ','job', 'major', 'grad', 'diploma']])"
   ]
  },
  {
   "cell_type": "code",
   "execution_count": 46,
   "metadata": {},
   "outputs": [],
   "source": [
    "kci_liter_20_21[pd.isna(kci_liter_20_21['kri_num'])] = kci_liter_20_21_add.values"
   ]
  },
  {
   "cell_type": "code",
   "execution_count": 47,
   "metadata": {},
   "outputs": [
    {
     "data": {
      "text/html": [
       "<div>\n",
       "<style scoped>\n",
       "    .dataframe tbody tr th:only-of-type {\n",
       "        vertical-align: middle;\n",
       "    }\n",
       "\n",
       "    .dataframe tbody tr th {\n",
       "        vertical-align: top;\n",
       "    }\n",
       "\n",
       "    .dataframe thead th {\n",
       "        text-align: right;\n",
       "    }\n",
       "</style>\n",
       "<table border=\"1\" class=\"dataframe\">\n",
       "  <thead>\n",
       "    <tr style=\"text-align: right;\">\n",
       "      <th></th>\n",
       "      <th>논문ID</th>\n",
       "      <th>논문명</th>\n",
       "      <th>논문 외국어명</th>\n",
       "      <th>학술지ID</th>\n",
       "      <th>학술지 명</th>\n",
       "      <th>학술지 외국어 명</th>\n",
       "      <th>발행기관ID</th>\n",
       "      <th>발행기관 명</th>\n",
       "      <th>발행기관 외국어 명</th>\n",
       "      <th>등재 구분</th>\n",
       "      <th>...</th>\n",
       "      <th>institution</th>\n",
       "      <th>artiId</th>\n",
       "      <th>kri_num</th>\n",
       "      <th>birth</th>\n",
       "      <th>gender</th>\n",
       "      <th>univ</th>\n",
       "      <th>job</th>\n",
       "      <th>major</th>\n",
       "      <th>grad</th>\n",
       "      <th>diploma</th>\n",
       "    </tr>\n",
       "  </thead>\n",
       "  <tbody>\n",
       "    <tr>\n",
       "      <th>15</th>\n",
       "      <td>ART002624210</td>\n",
       "      <td>김우진과 어우양위첸(歐陽予倩) 여성상과 대응방식 비교</td>\n",
       "      <td>A Comparative Study on the Women Characters an...</td>\n",
       "      <td>SER000003844</td>\n",
       "      <td>이화어문논집</td>\n",
       "      <td>Journal of Ewha Korean Language and Literature</td>\n",
       "      <td>INS000000240</td>\n",
       "      <td>이화어문학회</td>\n",
       "      <td>The Society Of Ewha Korean Language And Litera...</td>\n",
       "      <td>KCI등재</td>\n",
       "      <td>...</td>\n",
       "      <td>공주대학교 국어국문학과 박사과정</td>\n",
       "      <td>ART002624210</td>\n",
       "      <td>NaN</td>\n",
       "      <td>NaN</td>\n",
       "      <td>NaN</td>\n",
       "      <td>NaN</td>\n",
       "      <td>NaN</td>\n",
       "      <td>NaN</td>\n",
       "      <td>NaN</td>\n",
       "      <td>NaN</td>\n",
       "    </tr>\n",
       "    <tr>\n",
       "      <th>92</th>\n",
       "      <td>ART002687827</td>\n",
       "      <td>황석영 소설에 나타난 서사적 시간의 양상 연구: 「돌아온 사람」과 「낙타누깔」을 중심으로</td>\n",
       "      <td>NaN</td>\n",
       "      <td>1321</td>\n",
       "      <td>비평과이론</td>\n",
       "      <td>The Journal of Criticism and Theory</td>\n",
       "      <td>INS000000413</td>\n",
       "      <td>한국비평이론학회</td>\n",
       "      <td>The Criticism and Theory Society of Korea</td>\n",
       "      <td>KCI등재</td>\n",
       "      <td>...</td>\n",
       "      <td>한밭대학교</td>\n",
       "      <td>ART002687827</td>\n",
       "      <td>NaN</td>\n",
       "      <td>NaN</td>\n",
       "      <td>NaN</td>\n",
       "      <td>NaN</td>\n",
       "      <td>NaN</td>\n",
       "      <td>NaN</td>\n",
       "      <td>NaN</td>\n",
       "      <td>NaN</td>\n",
       "    </tr>\n",
       "    <tr>\n",
       "      <th>109</th>\n",
       "      <td>ART002602268</td>\n",
       "      <td>비선형적 시간성의 타자 윤리 — 배수아의 단편을 중심으로 —</td>\n",
       "      <td>Ethic of the Other in non-linear Temporality —...</td>\n",
       "      <td>812</td>\n",
       "      <td>현대문학이론연구</td>\n",
       "      <td>THE JOUNAL OF LITERARY THEORY</td>\n",
       "      <td>INS000000924</td>\n",
       "      <td>현대문학이론학회</td>\n",
       "      <td>The Society Of Modern Literary Theory</td>\n",
       "      <td>KCI등재</td>\n",
       "      <td>...</td>\n",
       "      <td>제주대학교</td>\n",
       "      <td>ART002602268</td>\n",
       "      <td>NaN</td>\n",
       "      <td>NaN</td>\n",
       "      <td>NaN</td>\n",
       "      <td>NaN</td>\n",
       "      <td>NaN</td>\n",
       "      <td>NaN</td>\n",
       "      <td>NaN</td>\n",
       "      <td>NaN</td>\n",
       "    </tr>\n",
       "    <tr>\n",
       "      <th>110</th>\n",
       "      <td>ART002602275</td>\n",
       "      <td>주요섭과 물크 라즈 아난드 소설의 서발턴 비교 연구</td>\n",
       "      <td>A Comparative Study on the Condition of Subalt...</td>\n",
       "      <td>812</td>\n",
       "      <td>현대문학이론연구</td>\n",
       "      <td>THE JOUNAL OF LITERARY THEORY</td>\n",
       "      <td>INS000000924</td>\n",
       "      <td>현대문학이론학회</td>\n",
       "      <td>The Society Of Modern Literary Theory</td>\n",
       "      <td>KCI등재</td>\n",
       "      <td>...</td>\n",
       "      <td>경희대학교</td>\n",
       "      <td>ART002602275</td>\n",
       "      <td>NaN</td>\n",
       "      <td>NaN</td>\n",
       "      <td>NaN</td>\n",
       "      <td>NaN</td>\n",
       "      <td>NaN</td>\n",
       "      <td>NaN</td>\n",
       "      <td>NaN</td>\n",
       "      <td>NaN</td>\n",
       "    </tr>\n",
       "    <tr>\n",
       "      <th>133</th>\n",
       "      <td>ART002705787</td>\n",
       "      <td>박용래 시에 나타난 울음의 변용 양상 고찰</td>\n",
       "      <td>A Study on Crying Poetics in Park Yong-rae’s P...</td>\n",
       "      <td>812</td>\n",
       "      <td>현대문학이론연구</td>\n",
       "      <td>THE JOUNAL OF LITERARY THEORY</td>\n",
       "      <td>INS000000924</td>\n",
       "      <td>현대문학이론학회</td>\n",
       "      <td>The Society Of Modern Literary Theory</td>\n",
       "      <td>KCI등재</td>\n",
       "      <td>...</td>\n",
       "      <td>경희대학교</td>\n",
       "      <td>ART002705787</td>\n",
       "      <td>NaN</td>\n",
       "      <td>NaN</td>\n",
       "      <td>NaN</td>\n",
       "      <td>NaN</td>\n",
       "      <td>NaN</td>\n",
       "      <td>NaN</td>\n",
       "      <td>NaN</td>\n",
       "      <td>NaN</td>\n",
       "    </tr>\n",
       "    <tr>\n",
       "      <th>...</th>\n",
       "      <td>...</td>\n",
       "      <td>...</td>\n",
       "      <td>...</td>\n",
       "      <td>...</td>\n",
       "      <td>...</td>\n",
       "      <td>...</td>\n",
       "      <td>...</td>\n",
       "      <td>...</td>\n",
       "      <td>...</td>\n",
       "      <td>...</td>\n",
       "      <td>...</td>\n",
       "      <td>...</td>\n",
       "      <td>...</td>\n",
       "      <td>...</td>\n",
       "      <td>...</td>\n",
       "      <td>...</td>\n",
       "      <td>...</td>\n",
       "      <td>...</td>\n",
       "      <td>...</td>\n",
       "      <td>...</td>\n",
       "      <td>...</td>\n",
       "    </tr>\n",
       "    <tr>\n",
       "      <th>1557</th>\n",
       "      <td>ART002711868</td>\n",
       "      <td>&lt;우상의 눈물&gt;과 &lt;沒有紐扣的紅襯衫&gt;에 나타난 기성세대와 학생 인물형상 비교</td>\n",
       "      <td>NaN</td>\n",
       "      <td>SER000004486</td>\n",
       "      <td>춘원연구학보</td>\n",
       "      <td>Chunwon Research journal</td>\n",
       "      <td>INS000059306</td>\n",
       "      <td>춘원연구학회</td>\n",
       "      <td>Chunwon Research Society</td>\n",
       "      <td>KCI등재</td>\n",
       "      <td>...</td>\n",
       "      <td>단국대학교 문예창작학과 대학원</td>\n",
       "      <td>ART002711868</td>\n",
       "      <td>NaN</td>\n",
       "      <td>NaN</td>\n",
       "      <td>NaN</td>\n",
       "      <td>단국대학교</td>\n",
       "      <td>대학원생</td>\n",
       "      <td>NaN</td>\n",
       "      <td>단국대학교</td>\n",
       "      <td>박사과정</td>\n",
       "    </tr>\n",
       "    <tr>\n",
       "      <th>1560</th>\n",
       "      <td>ART002751834</td>\n",
       "      <td>춘원과 魯迅의 ‘古典 패러디 작품’ 비교 연구 -「허생전」, 「補天」을 중심으로</td>\n",
       "      <td>NaN</td>\n",
       "      <td>SER000004486</td>\n",
       "      <td>춘원연구학보</td>\n",
       "      <td>Chunwon Research journal</td>\n",
       "      <td>INS000059306</td>\n",
       "      <td>춘원연구학회</td>\n",
       "      <td>Chunwon Research Society</td>\n",
       "      <td>KCI등재</td>\n",
       "      <td>...</td>\n",
       "      <td>中國安徽財經大學</td>\n",
       "      <td>ART002751834</td>\n",
       "      <td>NaN</td>\n",
       "      <td>NaN</td>\n",
       "      <td>NaN</td>\n",
       "      <td>NaN</td>\n",
       "      <td>NaN</td>\n",
       "      <td>NaN</td>\n",
       "      <td>NaN</td>\n",
       "      <td>NaN</td>\n",
       "    </tr>\n",
       "    <tr>\n",
       "      <th>1565</th>\n",
       "      <td>ART002751840</td>\n",
       "      <td>한중 소설에 나타난 지식층의 사회화 거부 양상 연구 -『경마장 가는 길』(1990)...</td>\n",
       "      <td>NaN</td>\n",
       "      <td>SER000004486</td>\n",
       "      <td>춘원연구학보</td>\n",
       "      <td>Chunwon Research journal</td>\n",
       "      <td>INS000059306</td>\n",
       "      <td>춘원연구학회</td>\n",
       "      <td>Chunwon Research Society</td>\n",
       "      <td>KCI등재</td>\n",
       "      <td>...</td>\n",
       "      <td>湖州師範学院</td>\n",
       "      <td>ART002751840</td>\n",
       "      <td>NaN</td>\n",
       "      <td>NaN</td>\n",
       "      <td>NaN</td>\n",
       "      <td>NaN</td>\n",
       "      <td>NaN</td>\n",
       "      <td>NaN</td>\n",
       "      <td>NaN</td>\n",
       "      <td>NaN</td>\n",
       "    </tr>\n",
       "    <tr>\n",
       "      <th>1566</th>\n",
       "      <td>ART002751841</td>\n",
       "      <td>「나무꾼과 선녀」와 「타인과의 시간」의 여성 이주담론 연구</td>\n",
       "      <td>NaN</td>\n",
       "      <td>SER000004486</td>\n",
       "      <td>춘원연구학보</td>\n",
       "      <td>Chunwon Research journal</td>\n",
       "      <td>INS000059306</td>\n",
       "      <td>춘원연구학회</td>\n",
       "      <td>Chunwon Research Society</td>\n",
       "      <td>KCI등재</td>\n",
       "      <td>...</td>\n",
       "      <td>아주대학교</td>\n",
       "      <td>ART002751841</td>\n",
       "      <td>NaN</td>\n",
       "      <td>NaN</td>\n",
       "      <td>NaN</td>\n",
       "      <td>NaN</td>\n",
       "      <td>NaN</td>\n",
       "      <td>NaN</td>\n",
       "      <td>NaN</td>\n",
       "      <td>NaN</td>\n",
       "    </tr>\n",
       "    <tr>\n",
       "      <th>1626</th>\n",
       "      <td>ART002754214</td>\n",
       "      <td>동아시아에서 독해 된 제국의 휴머니즘</td>\n",
       "      <td>NaN</td>\n",
       "      <td>519</td>\n",
       "      <td>민족문학사연구</td>\n",
       "      <td>Journal of Korean Literary History</td>\n",
       "      <td>INS000068291</td>\n",
       "      <td>민족문학사연구소</td>\n",
       "      <td>Institute of Korean Literary History</td>\n",
       "      <td>KCI등재</td>\n",
       "      <td>...</td>\n",
       "      <td>연세대학교</td>\n",
       "      <td>ART002754214</td>\n",
       "      <td>NaN</td>\n",
       "      <td>NaN</td>\n",
       "      <td>NaN</td>\n",
       "      <td>NaN</td>\n",
       "      <td>NaN</td>\n",
       "      <td>NaN</td>\n",
       "      <td>NaN</td>\n",
       "      <td>NaN</td>\n",
       "    </tr>\n",
       "  </tbody>\n",
       "</table>\n",
       "<p>69 rows × 40 columns</p>\n",
       "</div>"
      ],
      "text/plain": [
       "              논문ID                                                논문명  \\\n",
       "15    ART002624210                      김우진과 어우양위첸(歐陽予倩) 여성상과 대응방식 비교   \n",
       "92    ART002687827  황석영 소설에 나타난 서사적 시간의 양상 연구: 「돌아온 사람」과 「낙타누깔」을 중심으로   \n",
       "109   ART002602268                  비선형적 시간성의 타자 윤리 — 배수아의 단편을 중심으로 —   \n",
       "110   ART002602275                       주요섭과 물크 라즈 아난드 소설의 서발턴 비교 연구   \n",
       "133   ART002705787                            박용래 시에 나타난 울음의 변용 양상 고찰   \n",
       "...            ...                                                ...   \n",
       "1557  ART002711868         <우상의 눈물>과 <沒有紐扣的紅襯衫>에 나타난 기성세대와 학생 인물형상 비교   \n",
       "1560  ART002751834       춘원과 魯迅의 ‘古典 패러디 작품’ 비교 연구 -「허생전」, 「補天」을 중심으로   \n",
       "1565  ART002751840  한중 소설에 나타난 지식층의 사회화 거부 양상 연구 -『경마장 가는 길』(1990)...   \n",
       "1566  ART002751841                   「나무꾼과 선녀」와 「타인과의 시간」의 여성 이주담론 연구   \n",
       "1626  ART002754214                               동아시아에서 독해 된 제국의 휴머니즘   \n",
       "\n",
       "                                                논문 외국어명         학술지ID  \\\n",
       "15    A Comparative Study on the Women Characters an...  SER000003844   \n",
       "92                                                  NaN          1321   \n",
       "109   Ethic of the Other in non-linear Temporality —...           812   \n",
       "110   A Comparative Study on the Condition of Subalt...           812   \n",
       "133   A Study on Crying Poetics in Park Yong-rae’s P...           812   \n",
       "...                                                 ...           ...   \n",
       "1557                                                NaN  SER000004486   \n",
       "1560                                                NaN  SER000004486   \n",
       "1565                                                NaN  SER000004486   \n",
       "1566                                                NaN  SER000004486   \n",
       "1626                                                NaN           519   \n",
       "\n",
       "         학술지 명                                       학술지 외국어 명        발행기관ID  \\\n",
       "15      이화어문논집  Journal of Ewha Korean Language and Literature  INS000000240   \n",
       "92       비평과이론             The Journal of Criticism and Theory  INS000000413   \n",
       "109   현대문학이론연구                   THE JOUNAL OF LITERARY THEORY  INS000000924   \n",
       "110   현대문학이론연구                   THE JOUNAL OF LITERARY THEORY  INS000000924   \n",
       "133   현대문학이론연구                   THE JOUNAL OF LITERARY THEORY  INS000000924   \n",
       "...        ...                                             ...           ...   \n",
       "1557    춘원연구학보                        Chunwon Research journal  INS000059306   \n",
       "1560    춘원연구학보                        Chunwon Research journal  INS000059306   \n",
       "1565    춘원연구학보                        Chunwon Research journal  INS000059306   \n",
       "1566    춘원연구학보                        Chunwon Research journal  INS000059306   \n",
       "1626   민족문학사연구              Journal of Korean Literary History  INS000068291   \n",
       "\n",
       "        발행기관 명                                         발행기관 외국어 명  등재 구분  ...  \\\n",
       "15      이화어문학회  The Society Of Ewha Korean Language And Litera...  KCI등재  ...   \n",
       "92    한국비평이론학회          The Criticism and Theory Society of Korea  KCI등재  ...   \n",
       "109   현대문학이론학회              The Society Of Modern Literary Theory  KCI등재  ...   \n",
       "110   현대문학이론학회              The Society Of Modern Literary Theory  KCI등재  ...   \n",
       "133   현대문학이론학회              The Society Of Modern Literary Theory  KCI등재  ...   \n",
       "...        ...                                                ...    ...  ...   \n",
       "1557    춘원연구학회                           Chunwon Research Society  KCI등재  ...   \n",
       "1560    춘원연구학회                           Chunwon Research Society  KCI등재  ...   \n",
       "1565    춘원연구학회                           Chunwon Research Society  KCI등재  ...   \n",
       "1566    춘원연구학회                           Chunwon Research Society  KCI등재  ...   \n",
       "1626  민족문학사연구소               Institute of Korean Literary History  KCI등재  ...   \n",
       "\n",
       "            institution        artiId  kri_num  birth  gender   univ   job  \\\n",
       "15    공주대학교 국어국문학과 박사과정  ART002624210      NaN    NaN     NaN    NaN   NaN   \n",
       "92                한밭대학교  ART002687827      NaN    NaN     NaN    NaN   NaN   \n",
       "109               제주대학교  ART002602268      NaN    NaN     NaN    NaN   NaN   \n",
       "110               경희대학교  ART002602275      NaN    NaN     NaN    NaN   NaN   \n",
       "133               경희대학교  ART002705787      NaN    NaN     NaN    NaN   NaN   \n",
       "...                 ...           ...      ...    ...     ...    ...   ...   \n",
       "1557   단국대학교 문예창작학과 대학원  ART002711868      NaN    NaN     NaN  단국대학교  대학원생   \n",
       "1560           中國安徽財經大學  ART002751834      NaN    NaN     NaN    NaN   NaN   \n",
       "1565             湖州師範学院  ART002751840      NaN    NaN     NaN    NaN   NaN   \n",
       "1566              아주대학교  ART002751841      NaN    NaN     NaN    NaN   NaN   \n",
       "1626              연세대학교  ART002754214      NaN    NaN     NaN    NaN   NaN   \n",
       "\n",
       "     major   grad diploma  \n",
       "15     NaN    NaN     NaN  \n",
       "92     NaN    NaN     NaN  \n",
       "109    NaN    NaN     NaN  \n",
       "110    NaN    NaN     NaN  \n",
       "133    NaN    NaN     NaN  \n",
       "...    ...    ...     ...  \n",
       "1557   NaN  단국대학교    박사과정  \n",
       "1560   NaN    NaN     NaN  \n",
       "1565   NaN    NaN     NaN  \n",
       "1566   NaN    NaN     NaN  \n",
       "1626   NaN    NaN     NaN  \n",
       "\n",
       "[69 rows x 40 columns]"
      ]
     },
     "execution_count": 47,
     "metadata": {},
     "output_type": "execute_result"
    }
   ],
   "source": [
    "# kri_num 결국 못찾은 경우 (69건)\n",
    "kci_liter_20_21[pd.isna(kci_liter_20_21['gender'])]"
   ]
  },
  {
   "cell_type": "code",
   "execution_count": 48,
   "metadata": {},
   "outputs": [],
   "source": [
    "kci_liter_ = kci_liter[['artiId','crtId','main_title','sub_title','year','journal','sereId','주제분야','키워드(한국어)', '키워드(외국어)', 'kor_abs', 'eng_abs', '주제분야',\\\n",
    "    'kri_num', 'birth', 'gender', 'univ','job', 'major', 'grad', 'diploma']]"
   ]
  },
  {
   "cell_type": "code",
   "execution_count": 49,
   "metadata": {},
   "outputs": [],
   "source": [
    "kci_liter_20_21_ = kci_liter_20_21[['artiId','author-id','논문명','논문 외국어명','year','학술지 명','학술지ID','주제분야','키워드(원어)', '키워드(외국어)', '초록(원어)', '초록(외국어)', '주제분야',\\\n",
    "    'kri_num', 'birth', 'gender', 'univ','job', 'major', 'grad', 'diploma']]"
   ]
  },
  {
   "cell_type": "code",
   "execution_count": 50,
   "metadata": {},
   "outputs": [],
   "source": [
    "kci_liter_.columns = list(kci_liter_20_21_.columns)"
   ]
  },
  {
   "cell_type": "code",
   "execution_count": 51,
   "metadata": {},
   "outputs": [],
   "source": [
    "# 공통 컬럼으로 merge 08~19 & 20~21\n",
    "df = pd.concat([kci_liter_,kci_liter_20_21_],ignore_index=True)"
   ]
  },
  {
   "cell_type": "code",
   "execution_count": 52,
   "metadata": {},
   "outputs": [],
   "source": [
    "# 참고문헌 없는 논문 확인후 제거 (6건)\n",
    "no_ref_list = list(set(df['artiId'].tolist()) - set(ref_df['artiId'].tolist()))\n",
    "df = df[~df['artiId'].isin(no_ref_list)].reset_index(drop=True)"
   ]
  },
  {
   "cell_type": "code",
   "execution_count": 53,
   "metadata": {},
   "outputs": [
    {
     "data": {
      "text/plain": [
       "set()"
      ]
     },
     "execution_count": 53,
     "metadata": {},
     "output_type": "execute_result"
    }
   ],
   "source": [
    "# df와 ref_df artiId 일치 여부 확인\n",
    "set(df['artiId'].tolist()) - set(ref_df['artiId'].tolist())"
   ]
  },
  {
   "cell_type": "code",
   "execution_count": 54,
   "metadata": {},
   "outputs": [
    {
     "data": {
      "text/plain": [
       "mf\n",
       "0.0    11317\n",
       "1.0      624\n",
       "Name: count, dtype: int64"
      ]
     },
     "execution_count": 54,
     "metadata": {},
     "output_type": "execute_result"
    }
   ],
   "source": [
    "# 푸코 인용여부 컬럼 생성\n",
    "df.loc[df['artiId'].isin(list(ref_fu['artiId'].unique())),'mf'] = 1\n",
    "df.loc[~df['artiId'].isin(list(ref_fu['artiId'].unique())),'mf'] = 0\n",
    "df['mf'].value_counts()"
   ]
  },
  {
   "cell_type": "code",
   "execution_count": 55,
   "metadata": {},
   "outputs": [
    {
     "data": {
      "text/plain": [
       "0.05225692990536806"
      ]
     },
     "execution_count": 55,
     "metadata": {},
     "output_type": "execute_result"
    }
   ],
   "source": [
    "624/len(df)"
   ]
  },
  {
   "cell_type": "code",
   "execution_count": 58,
   "metadata": {},
   "outputs": [],
   "source": [
    "# 논문 게재 year 컬럼 추가\n",
    "ref_fu = ref_fu.merge(df[['artiId','year','gender']])"
   ]
  },
  {
   "cell_type": "code",
   "execution_count": 59,
   "metadata": {},
   "outputs": [],
   "source": [
    "# 전처리 완료한 df, ref_df, ref_fu 피클로 저장\n",
    "df.to_pickle('./231005_2008_2021_df.pkl')\n",
    "ref_df.to_pickle('./231005_2008_2021_ref_df.pkl')\n",
    "ref_fu.to_pickle('./231005_2008_2021_ref_fu.pkl')"
   ]
  },
  {
   "cell_type": "markdown",
   "metadata": {},
   "source": [
    "### 1. 어떤 푸코의 저작이 인용되었나?"
   ]
  },
  {
   "cell_type": "code",
   "execution_count": 2,
   "metadata": {},
   "outputs": [],
   "source": [
    "df = pd.read_pickle('./231005_2008_2021_df.pkl')\n",
    "ref_df = pd.read_pickle('./231005_2008_2021_ref_df.pkl')\n",
    "ref_fu = pd.read_pickle('./231005_2008_2021_ref_fu.pkl')"
   ]
  },
  {
   "cell_type": "code",
   "execution_count": 3,
   "metadata": {},
   "outputs": [
    {
     "data": {
      "text/plain": [
       "<Axes: xlabel='year'>"
      ]
     },
     "execution_count": 3,
     "metadata": {},
     "output_type": "execute_result"
    },
    {
     "data": {
      "image/png": "[encoded data removed]",
      "text/plain": [
       "<Figure size 1536x1152 with 1 Axes>"
      ]
     },
     "metadata": {},
     "output_type": "display_data"
    }
   ],
   "source": [
    "# 전체 분석 대상 논문 게재 추이\n",
    "df['year'].value_counts().sort_index().plot()"
   ]
  },
  {
   "cell_type": "code",
   "execution_count": 61,
   "metadata": {},
   "outputs": [
    {
     "name": "stdout",
     "output_type": "stream",
     "text": [
      "year\n",
      "2008    40\n",
      "2009    42\n",
      "2010    54\n",
      "2011    41\n",
      "2012    51\n",
      "2013    51\n",
      "2014    65\n",
      "2015    74\n",
      "2016    62\n",
      "2017    65\n",
      "2018    61\n",
      "2019    81\n",
      "2020    56\n",
      "2021    83\n",
      "Name: count, dtype: int64\n"
     ]
    },
    {
     "data": {
      "text/plain": [
       "<Axes: xlabel='year'>"
      ]
     },
     "execution_count": 61,
     "metadata": {},
     "output_type": "execute_result"
    },
    {
     "data": {
      "image/png": "[encoded data removed]",
      "text/plain": [
       "<Figure size 1536x1152 with 1 Axes>"
      ]
     },
     "metadata": {},
     "output_type": "display_data"
    }
   ],
   "source": [
    "# 푸코 인용 추이\n",
    "print(ref_fu['year'].value_counts().sort_index())\n",
    "ref_fu['year'].value_counts().sort_index().plot()"
   ]
  },
  {
   "cell_type": "code",
   "execution_count": 62,
   "metadata": {},
   "outputs": [
    {
     "data": {
      "text/plain": [
       "classification\n",
       "2.0    0.498789\n",
       "1.0    0.359564\n",
       "3.0    0.100484\n",
       "4.0    0.041162\n",
       "Name: proportion, dtype: float64"
      ]
     },
     "execution_count": 62,
     "metadata": {},
     "output_type": "execute_result"
    }
   ],
   "source": [
    "ref_fu['classification'].value_counts(normalize=True)"
   ]
  },
  {
   "cell_type": "code",
   "execution_count": 5,
   "metadata": {},
   "outputs": [],
   "source": [
    "# pd.DataFrame(ref_fu['uri'].value_counts()).reset_index().to_excel('./stats/푸코저작_인용.xlsx')"
   ]
  },
  {
   "cell_type": "code",
   "execution_count": 6,
   "metadata": {},
   "outputs": [
    {
     "data": {
      "text/html": [
       "<div>\n",
       "<style scoped>\n",
       "    .dataframe tbody tr th:only-of-type {\n",
       "        vertical-align: middle;\n",
       "    }\n",
       "\n",
       "    .dataframe tbody tr th {\n",
       "        vertical-align: top;\n",
       "    }\n",
       "\n",
       "    .dataframe thead th {\n",
       "        text-align: right;\n",
       "    }\n",
       "</style>\n",
       "<table border=\"1\" class=\"dataframe\">\n",
       "  <thead>\n",
       "    <tr style=\"text-align: right;\">\n",
       "      <th>year</th>\n",
       "      <th>2008</th>\n",
       "      <th>2009</th>\n",
       "      <th>2010</th>\n",
       "      <th>2011</th>\n",
       "      <th>2012</th>\n",
       "      <th>2013</th>\n",
       "      <th>2014</th>\n",
       "      <th>2015</th>\n",
       "      <th>2016</th>\n",
       "      <th>2017</th>\n",
       "      <th>2018</th>\n",
       "      <th>2019</th>\n",
       "      <th>2020</th>\n",
       "      <th>2021</th>\n",
       "    </tr>\n",
       "    <tr>\n",
       "      <th>classification</th>\n",
       "      <th></th>\n",
       "      <th></th>\n",
       "      <th></th>\n",
       "      <th></th>\n",
       "      <th></th>\n",
       "      <th></th>\n",
       "      <th></th>\n",
       "      <th></th>\n",
       "      <th></th>\n",
       "      <th></th>\n",
       "      <th></th>\n",
       "      <th></th>\n",
       "      <th></th>\n",
       "      <th></th>\n",
       "    </tr>\n",
       "  </thead>\n",
       "  <tbody>\n",
       "    <tr>\n",
       "      <th>1.0</th>\n",
       "      <td>0.425</td>\n",
       "      <td>0.357143</td>\n",
       "      <td>0.166667</td>\n",
       "      <td>0.365854</td>\n",
       "      <td>0.254902</td>\n",
       "      <td>0.333333</td>\n",
       "      <td>0.230769</td>\n",
       "      <td>0.432432</td>\n",
       "      <td>0.306452</td>\n",
       "      <td>0.276923</td>\n",
       "      <td>0.459016</td>\n",
       "      <td>0.419753</td>\n",
       "      <td>0.535714</td>\n",
       "      <td>0.421687</td>\n",
       "    </tr>\n",
       "    <tr>\n",
       "      <th>2.0</th>\n",
       "      <td>0.475</td>\n",
       "      <td>0.452381</td>\n",
       "      <td>0.648148</td>\n",
       "      <td>0.463415</td>\n",
       "      <td>0.568627</td>\n",
       "      <td>0.470588</td>\n",
       "      <td>0.661538</td>\n",
       "      <td>0.418919</td>\n",
       "      <td>0.580645</td>\n",
       "      <td>0.538462</td>\n",
       "      <td>0.459016</td>\n",
       "      <td>0.456790</td>\n",
       "      <td>0.321429</td>\n",
       "      <td>0.469880</td>\n",
       "    </tr>\n",
       "    <tr>\n",
       "      <th>3.0</th>\n",
       "      <td>0.075</td>\n",
       "      <td>0.142857</td>\n",
       "      <td>0.111111</td>\n",
       "      <td>0.097561</td>\n",
       "      <td>0.137255</td>\n",
       "      <td>0.137255</td>\n",
       "      <td>0.061538</td>\n",
       "      <td>0.054054</td>\n",
       "      <td>0.112903</td>\n",
       "      <td>0.107692</td>\n",
       "      <td>0.081967</td>\n",
       "      <td>0.098765</td>\n",
       "      <td>0.107143</td>\n",
       "      <td>0.108434</td>\n",
       "    </tr>\n",
       "    <tr>\n",
       "      <th>4.0</th>\n",
       "      <td>0.025</td>\n",
       "      <td>0.047619</td>\n",
       "      <td>0.074074</td>\n",
       "      <td>0.073171</td>\n",
       "      <td>0.039216</td>\n",
       "      <td>0.058824</td>\n",
       "      <td>0.046154</td>\n",
       "      <td>0.094595</td>\n",
       "      <td>0.000000</td>\n",
       "      <td>0.076923</td>\n",
       "      <td>0.000000</td>\n",
       "      <td>0.024691</td>\n",
       "      <td>0.035714</td>\n",
       "      <td>0.000000</td>\n",
       "    </tr>\n",
       "  </tbody>\n",
       "</table>\n",
       "</div>"
      ],
      "text/plain": [
       "year             2008      2009      2010      2011      2012      2013  \\\n",
       "classification                                                            \n",
       "1.0             0.425  0.357143  0.166667  0.365854  0.254902  0.333333   \n",
       "2.0             0.475  0.452381  0.648148  0.463415  0.568627  0.470588   \n",
       "3.0             0.075  0.142857  0.111111  0.097561  0.137255  0.137255   \n",
       "4.0             0.025  0.047619  0.074074  0.073171  0.039216  0.058824   \n",
       "\n",
       "year                2014      2015      2016      2017      2018      2019  \\\n",
       "classification                                                               \n",
       "1.0             0.230769  0.432432  0.306452  0.276923  0.459016  0.419753   \n",
       "2.0             0.661538  0.418919  0.580645  0.538462  0.459016  0.456790   \n",
       "3.0             0.061538  0.054054  0.112903  0.107692  0.081967  0.098765   \n",
       "4.0             0.046154  0.094595  0.000000  0.076923  0.000000  0.024691   \n",
       "\n",
       "year                2020      2021  \n",
       "classification                      \n",
       "1.0             0.535714  0.421687  \n",
       "2.0             0.321429  0.469880  \n",
       "3.0             0.107143  0.108434  \n",
       "4.0             0.035714  0.000000  "
      ]
     },
     "execution_count": 6,
     "metadata": {},
     "output_type": "execute_result"
    }
   ],
   "source": [
    "pd.crosstab(ref_fu['classification'],ref_fu['year'],normalize='columns')"
   ]
  },
  {
   "cell_type": "code",
   "execution_count": 64,
   "metadata": {},
   "outputs": [
    {
     "data": {
      "text/plain": [
       "<Axes: xlabel='year'>"
      ]
     },
     "execution_count": 64,
     "metadata": {},
     "output_type": "execute_result"
    },
    {
     "data": {
      "image/png": "[encoded data removed]",
      "text/plain": [
       "<Figure size 1536x1152 with 1 Axes>"
      ]
     },
     "metadata": {},
     "output_type": "display_data"
    }
   ],
   "source": [
    "pd.crosstab(ref_fu['classification'],ref_fu['year'],normalize='columns').T.plot()"
   ]
  },
  {
   "cell_type": "code",
   "execution_count": 42,
   "metadata": {},
   "outputs": [],
   "source": [
    "# 연도별 주요 저작 인용 패턴\n",
    "pd.crosstab(ref_fu['uri'],ref_fu['year'],margins=True).to_excel('./stats/연도별_푸코저작_인용.xlsx')"
   ]
  },
  {
   "cell_type": "code",
   "execution_count": 43,
   "metadata": {},
   "outputs": [],
   "source": [
    "# 성별 주요 저작 인용 패턴\n",
    "pd.crosstab(ref_fu['uri'],ref_fu['gender'],margins=True).to_excel('./stats/성별_푸코저작_인용.xlsx')"
   ]
  },
  {
   "cell_type": "markdown",
   "metadata": {},
   "source": [
    "### 2. 누가 인용하는가?"
   ]
  },
  {
   "cell_type": "markdown",
   "metadata": {},
   "source": [
    "##### 세대"
   ]
  },
  {
   "cell_type": "code",
   "execution_count": 9,
   "metadata": {},
   "outputs": [
    {
     "data": {
      "text/plain": [
       "0        1969.0\n",
       "1        1971.0\n",
       "2        1978.0\n",
       "3        1974.0\n",
       "4        1990.0\n",
       "          ...  \n",
       "11936    1968.0\n",
       "11937    1979.0\n",
       "11938    1987.0\n",
       "11939    1984.0\n",
       "11940    1976.0\n",
       "Name: birth, Length: 11941, dtype: float64"
      ]
     },
     "execution_count": 9,
     "metadata": {},
     "output_type": "execute_result"
    }
   ],
   "source": [
    "df.loc[~pd.isna(df['birth']),'birth'] = df[~pd.isna(df['birth'])]['birth'].map(lambda x:1900 + int(x))\n",
    "df['birth']"
   ]
  },
  {
   "cell_type": "code",
   "execution_count": 10,
   "metadata": {},
   "outputs": [],
   "source": [
    "# 생년 세대\n",
    "df.loc[~pd.isna(df['birth']),'birth_gen'] = \\\n",
    "pd.cut(df.loc[~pd.isna(df['birth']),'birth'],bins=[1900,1940,1950,1960,1970,1980,1990,2000],labels=['40년생 이전','40년대생','50년대생','60년대생','70년대생','80년대생','90년생 이후'],right=False)"
   ]
  },
  {
   "cell_type": "code",
   "execution_count": 36,
   "metadata": {},
   "outputs": [],
   "source": [
    "# 생년 세대 merge\n",
    "ref_fu = ref_fu.merge(df[['artiId','birth_gen']])"
   ]
  },
  {
   "cell_type": "code",
   "execution_count": 39,
   "metadata": {},
   "outputs": [],
   "source": [
    "# 세대별 주요 저작 인용 패턴\n",
    "pd.crosstab(ref_fu['uri'],ref_fu['birth_gen'],margins=True).to_excel('./stats/세대별_푸코저작_인용.xlsx')"
   ]
  },
  {
   "cell_type": "code",
   "execution_count": 11,
   "metadata": {},
   "outputs": [
    {
     "data": {
      "text/plain": [
       "birth_gen\n",
       "70년대생      4488\n",
       "60년대생      3729\n",
       "80년대생      1516\n",
       "50년대생      1045\n",
       "90년생 이후     141\n",
       "40년대생       107\n",
       "40년생 이전      11\n",
       "Name: count, dtype: int64"
      ]
     },
     "execution_count": 11,
     "metadata": {},
     "output_type": "execute_result"
    }
   ],
   "source": [
    "df['birth_gen'].value_counts()"
   ]
  },
  {
   "cell_type": "code",
   "execution_count": 12,
   "metadata": {},
   "outputs": [
    {
     "data": {
      "text/plain": [
       "birth_gen\n",
       "70년대생      0.406632\n",
       "60년대생      0.337864\n",
       "80년대생      0.137356\n",
       "50년대생      0.094682\n",
       "90년생 이후    0.012775\n",
       "40년대생      0.009695\n",
       "40년생 이전    0.000997\n",
       "Name: proportion, dtype: float64"
      ]
     },
     "execution_count": 12,
     "metadata": {},
     "output_type": "execute_result"
    }
   ],
   "source": [
    "df['birth_gen'].value_counts(normalize=True)"
   ]
  },
  {
   "cell_type": "code",
   "execution_count": 13,
   "metadata": {},
   "outputs": [
    {
     "data": {
      "text/html": [
       "<div>\n",
       "<style scoped>\n",
       "    .dataframe tbody tr th:only-of-type {\n",
       "        vertical-align: middle;\n",
       "    }\n",
       "\n",
       "    .dataframe tbody tr th {\n",
       "        vertical-align: top;\n",
       "    }\n",
       "\n",
       "    .dataframe thead th {\n",
       "        text-align: right;\n",
       "    }\n",
       "</style>\n",
       "<table border=\"1\" class=\"dataframe\">\n",
       "  <thead>\n",
       "    <tr style=\"text-align: right;\">\n",
       "      <th>mf</th>\n",
       "      <th>0.0</th>\n",
       "      <th>1.0</th>\n",
       "    </tr>\n",
       "    <tr>\n",
       "      <th>birth_gen</th>\n",
       "      <th></th>\n",
       "      <th></th>\n",
       "    </tr>\n",
       "  </thead>\n",
       "  <tbody>\n",
       "    <tr>\n",
       "      <th>40년생 이전</th>\n",
       "      <td>11</td>\n",
       "      <td>0</td>\n",
       "    </tr>\n",
       "    <tr>\n",
       "      <th>40년대생</th>\n",
       "      <td>102</td>\n",
       "      <td>5</td>\n",
       "    </tr>\n",
       "    <tr>\n",
       "      <th>50년대생</th>\n",
       "      <td>1007</td>\n",
       "      <td>38</td>\n",
       "    </tr>\n",
       "    <tr>\n",
       "      <th>60년대생</th>\n",
       "      <td>3535</td>\n",
       "      <td>194</td>\n",
       "    </tr>\n",
       "    <tr>\n",
       "      <th>70년대생</th>\n",
       "      <td>4228</td>\n",
       "      <td>260</td>\n",
       "    </tr>\n",
       "    <tr>\n",
       "      <th>80년대생</th>\n",
       "      <td>1428</td>\n",
       "      <td>88</td>\n",
       "    </tr>\n",
       "    <tr>\n",
       "      <th>90년생 이후</th>\n",
       "      <td>134</td>\n",
       "      <td>7</td>\n",
       "    </tr>\n",
       "  </tbody>\n",
       "</table>\n",
       "</div>"
      ],
      "text/plain": [
       "mf          0.0  1.0\n",
       "birth_gen           \n",
       "40년생 이전      11    0\n",
       "40년대생       102    5\n",
       "50년대생      1007   38\n",
       "60년대생      3535  194\n",
       "70년대생      4228  260\n",
       "80년대생      1428   88\n",
       "90년생 이후     134    7"
      ]
     },
     "execution_count": 13,
     "metadata": {},
     "output_type": "execute_result"
    }
   ],
   "source": [
    "pd.crosstab(df['birth_gen'],df['mf'])"
   ]
  },
  {
   "cell_type": "code",
   "execution_count": 72,
   "metadata": {},
   "outputs": [
    {
     "data": {
      "text/html": [
       "<div>\n",
       "<style scoped>\n",
       "    .dataframe tbody tr th:only-of-type {\n",
       "        vertical-align: middle;\n",
       "    }\n",
       "\n",
       "    .dataframe tbody tr th {\n",
       "        vertical-align: top;\n",
       "    }\n",
       "\n",
       "    .dataframe thead th {\n",
       "        text-align: right;\n",
       "    }\n",
       "</style>\n",
       "<table border=\"1\" class=\"dataframe\">\n",
       "  <thead>\n",
       "    <tr style=\"text-align: right;\">\n",
       "      <th>mf</th>\n",
       "      <th>0.0</th>\n",
       "      <th>1.0</th>\n",
       "    </tr>\n",
       "    <tr>\n",
       "      <th>birth_gen</th>\n",
       "      <th></th>\n",
       "      <th></th>\n",
       "    </tr>\n",
       "  </thead>\n",
       "  <tbody>\n",
       "    <tr>\n",
       "      <th>40년생 이전</th>\n",
       "      <td>1.000000</td>\n",
       "      <td>0.000000</td>\n",
       "    </tr>\n",
       "    <tr>\n",
       "      <th>40년대생</th>\n",
       "      <td>0.953271</td>\n",
       "      <td>0.046729</td>\n",
       "    </tr>\n",
       "    <tr>\n",
       "      <th>50년대생</th>\n",
       "      <td>0.963636</td>\n",
       "      <td>0.036364</td>\n",
       "    </tr>\n",
       "    <tr>\n",
       "      <th>60년대생</th>\n",
       "      <td>0.947975</td>\n",
       "      <td>0.052025</td>\n",
       "    </tr>\n",
       "    <tr>\n",
       "      <th>70년대생</th>\n",
       "      <td>0.942068</td>\n",
       "      <td>0.057932</td>\n",
       "    </tr>\n",
       "    <tr>\n",
       "      <th>80년대생</th>\n",
       "      <td>0.941953</td>\n",
       "      <td>0.058047</td>\n",
       "    </tr>\n",
       "    <tr>\n",
       "      <th>90년생 이후</th>\n",
       "      <td>0.950355</td>\n",
       "      <td>0.049645</td>\n",
       "    </tr>\n",
       "  </tbody>\n",
       "</table>\n",
       "</div>"
      ],
      "text/plain": [
       "mf              0.0       1.0\n",
       "birth_gen                    \n",
       "40년생 이전    1.000000  0.000000\n",
       "40년대생      0.953271  0.046729\n",
       "50년대생      0.963636  0.036364\n",
       "60년대생      0.947975  0.052025\n",
       "70년대생      0.942068  0.057932\n",
       "80년대생      0.941953  0.058047\n",
       "90년생 이후    0.950355  0.049645"
      ]
     },
     "execution_count": 72,
     "metadata": {},
     "output_type": "execute_result"
    }
   ],
   "source": [
    "pd.crosstab(df['birth_gen'],df['mf'],normalize='index')"
   ]
  },
  {
   "cell_type": "code",
   "execution_count": 20,
   "metadata": {},
   "outputs": [
    {
     "data": {
      "text/html": [
       "<div>\n",
       "<style scoped>\n",
       "    .dataframe tbody tr th:only-of-type {\n",
       "        vertical-align: middle;\n",
       "    }\n",
       "\n",
       "    .dataframe tbody tr th {\n",
       "        vertical-align: top;\n",
       "    }\n",
       "\n",
       "    .dataframe thead th {\n",
       "        text-align: right;\n",
       "    }\n",
       "</style>\n",
       "<table border=\"1\" class=\"dataframe\">\n",
       "  <thead>\n",
       "    <tr style=\"text-align: right;\">\n",
       "      <th></th>\n",
       "      <th>푸코_비인용</th>\n",
       "      <th>푸코_인용</th>\n",
       "    </tr>\n",
       "    <tr>\n",
       "      <th>birth_gen</th>\n",
       "      <th></th>\n",
       "      <th></th>\n",
       "    </tr>\n",
       "  </thead>\n",
       "  <tbody>\n",
       "    <tr>\n",
       "      <th>40년대생</th>\n",
       "      <td>102</td>\n",
       "      <td>5</td>\n",
       "    </tr>\n",
       "    <tr>\n",
       "      <th>50년대생</th>\n",
       "      <td>1007</td>\n",
       "      <td>38</td>\n",
       "    </tr>\n",
       "    <tr>\n",
       "      <th>60년대생</th>\n",
       "      <td>3535</td>\n",
       "      <td>194</td>\n",
       "    </tr>\n",
       "    <tr>\n",
       "      <th>70년대생</th>\n",
       "      <td>4228</td>\n",
       "      <td>260</td>\n",
       "    </tr>\n",
       "    <tr>\n",
       "      <th>80년대생</th>\n",
       "      <td>1428</td>\n",
       "      <td>88</td>\n",
       "    </tr>\n",
       "    <tr>\n",
       "      <th>90년생 이후</th>\n",
       "      <td>134</td>\n",
       "      <td>7</td>\n",
       "    </tr>\n",
       "  </tbody>\n",
       "</table>\n",
       "</div>"
      ],
      "text/plain": [
       "           푸코_비인용  푸코_인용\n",
       "birth_gen               \n",
       "40년대생         102      5\n",
       "50년대생        1007     38\n",
       "60년대생        3535    194\n",
       "70년대생        4228    260\n",
       "80년대생        1428     88\n",
       "90년생 이후       134      7"
      ]
     },
     "execution_count": 20,
     "metadata": {},
     "output_type": "execute_result"
    }
   ],
   "source": [
    "# Continggency Table 생성\n",
    "birth_mf = pd.crosstab(df['birth_gen'],df['mf'])\n",
    "birth_mf = birth_mf[1:]\n",
    "birth_mf.columns = ['푸코_비인용','푸코_인용']\n",
    "with pd.ExcelWriter(f'./stats/푸코_인용_인구사회정보.xlsx',mode='w',engine='openpyxl') as writer:\n",
    "    (birth_mf).to_excel(writer,sheet_name='세대-푸코 Table')\n",
    "birth_mf"
   ]
  },
  {
   "cell_type": "code",
   "execution_count": 15,
   "metadata": {},
   "outputs": [
    {
     "data": {
      "text/plain": [
       "Chi2ContingencyResult(statistic=8.681617479407551, pvalue=0.12245733787703166, dof=5, expected_freq=array([[ 101.25503356,    5.74496644],\n",
       "       [ 988.89261745,   56.10738255],\n",
       "       [3528.7852349 ,  200.2147651 ],\n",
       "       [4247.03355705,  240.96644295],\n",
       "       [1434.60402685,   81.39597315],\n",
       "       [ 133.4295302 ,    7.5704698 ]]))"
      ]
     },
     "execution_count": 15,
     "metadata": {},
     "output_type": "execute_result"
    }
   ],
   "source": [
    "chi2_contingency(birth_mf)"
   ]
  },
  {
   "cell_type": "code",
   "execution_count": 28,
   "metadata": {},
   "outputs": [
    {
     "data": {
      "text/plain": [
       "Chi2ContingencyResult(statistic=8.512697957036925, pvalue=0.03652303411473961, dof=3, expected_freq=array([[ 988.76507701,   56.23492299],\n",
       "       [3528.3301169 ,  200.6698831 ],\n",
       "       [4246.48580442,  241.51419558],\n",
       "       [1434.41900167,   81.58099833]]))"
      ]
     },
     "execution_count": 28,
     "metadata": {},
     "output_type": "execute_result"
    }
   ],
   "source": [
    "# 50 ~ 80년대생만\n",
    "chi2_contingency(birth_mf[1:-1])"
   ]
  },
  {
   "cell_type": "markdown",
   "metadata": {},
   "source": [
    "##### 성별"
   ]
  },
  {
   "cell_type": "code",
   "execution_count": 18,
   "metadata": {},
   "outputs": [
    {
     "data": {
      "text/plain": [
       "gender\n",
       "남    5610\n",
       "여    5493\n",
       "Name: count, dtype: int64"
      ]
     },
     "execution_count": 18,
     "metadata": {},
     "output_type": "execute_result"
    }
   ],
   "source": [
    "df['gender'].value_counts()"
   ]
  },
  {
   "cell_type": "code",
   "execution_count": 21,
   "metadata": {},
   "outputs": [],
   "source": [
    "# Continggency Table 생성\n",
    "gender_mf = pd.crosstab(df['gender'],df['mf'])\n",
    "gender_mf.columns = ['푸코_비인용','푸코_인용']\n",
    "with pd.ExcelWriter('./stats/푸코_인용_인구사회정보.xlsx',mode='a',engine='openpyxl') as writer:\n",
    "    (gender_mf).to_excel(writer,sheet_name='성별-푸코 Table')"
   ]
  },
  {
   "cell_type": "code",
   "execution_count": 22,
   "metadata": {},
   "outputs": [
    {
     "data": {
      "text/html": [
       "<div>\n",
       "<style scoped>\n",
       "    .dataframe tbody tr th:only-of-type {\n",
       "        vertical-align: middle;\n",
       "    }\n",
       "\n",
       "    .dataframe tbody tr th {\n",
       "        vertical-align: top;\n",
       "    }\n",
       "\n",
       "    .dataframe thead th {\n",
       "        text-align: right;\n",
       "    }\n",
       "</style>\n",
       "<table border=\"1\" class=\"dataframe\">\n",
       "  <thead>\n",
       "    <tr style=\"text-align: right;\">\n",
       "      <th></th>\n",
       "      <th>푸코_비인용</th>\n",
       "      <th>푸코_인용</th>\n",
       "    </tr>\n",
       "    <tr>\n",
       "      <th>gender</th>\n",
       "      <th></th>\n",
       "      <th></th>\n",
       "    </tr>\n",
       "  </thead>\n",
       "  <tbody>\n",
       "    <tr>\n",
       "      <th>남</th>\n",
       "      <td>5341</td>\n",
       "      <td>269</td>\n",
       "    </tr>\n",
       "    <tr>\n",
       "      <th>여</th>\n",
       "      <td>5167</td>\n",
       "      <td>326</td>\n",
       "    </tr>\n",
       "  </tbody>\n",
       "</table>\n",
       "</div>"
      ],
      "text/plain": [
       "        푸코_비인용  푸코_인용\n",
       "gender               \n",
       "남         5341    269\n",
       "여         5167    326"
      ]
     },
     "execution_count": 22,
     "metadata": {},
     "output_type": "execute_result"
    }
   ],
   "source": [
    "gender_mf"
   ]
  },
  {
   "cell_type": "code",
   "execution_count": 23,
   "metadata": {},
   "outputs": [
    {
     "data": {
      "text/plain": [
       "Chi2ContingencyResult(statistic=6.8866538123679195, pvalue=0.008684168194229994, dof=1, expected_freq=array([[5309.36503648,  300.63496352],\n",
       "       [5198.63496352,  294.36503648]]))"
      ]
     },
     "execution_count": 23,
     "metadata": {},
     "output_type": "execute_result"
    }
   ],
   "source": [
    "chi2_contingency(gender_mf)"
   ]
  },
  {
   "cell_type": "code",
   "execution_count": 24,
   "metadata": {},
   "outputs": [
    {
     "data": {
      "text/html": [
       "<div>\n",
       "<style scoped>\n",
       "    .dataframe tbody tr th:only-of-type {\n",
       "        vertical-align: middle;\n",
       "    }\n",
       "\n",
       "    .dataframe tbody tr th {\n",
       "        vertical-align: top;\n",
       "    }\n",
       "\n",
       "    .dataframe thead th {\n",
       "        text-align: right;\n",
       "    }\n",
       "</style>\n",
       "<table border=\"1\" class=\"dataframe\">\n",
       "  <thead>\n",
       "    <tr style=\"text-align: right;\">\n",
       "      <th>mf</th>\n",
       "      <th>0.0</th>\n",
       "      <th>1.0</th>\n",
       "    </tr>\n",
       "    <tr>\n",
       "      <th>gender</th>\n",
       "      <th></th>\n",
       "      <th></th>\n",
       "    </tr>\n",
       "  </thead>\n",
       "  <tbody>\n",
       "    <tr>\n",
       "      <th>남</th>\n",
       "      <td>0.952050</td>\n",
       "      <td>0.047950</td>\n",
       "    </tr>\n",
       "    <tr>\n",
       "      <th>여</th>\n",
       "      <td>0.940652</td>\n",
       "      <td>0.059348</td>\n",
       "    </tr>\n",
       "  </tbody>\n",
       "</table>\n",
       "</div>"
      ],
      "text/plain": [
       "mf           0.0       1.0\n",
       "gender                    \n",
       "남       0.952050  0.047950\n",
       "여       0.940652  0.059348"
      ]
     },
     "execution_count": 24,
     "metadata": {},
     "output_type": "execute_result"
    }
   ],
   "source": [
    "pd.crosstab(df['gender'],df['mf'],normalize='index')"
   ]
  },
  {
   "cell_type": "markdown",
   "metadata": {},
   "source": [
    "##### 김윤식"
   ]
  },
  {
   "cell_type": "code",
   "execution_count": 28,
   "metadata": {},
   "outputs": [],
   "source": [
    "# 논문 게재 year 컬럼 추가\n",
    "# ref_df = ref_df.merge(df[['artiId','year','gender']])"
   ]
  },
  {
   "cell_type": "code",
   "execution_count": 38,
   "metadata": {},
   "outputs": [],
   "source": [
    "ref_kim = ref_df.loc[ref_df['author']=='김윤식'].reset_index(drop=True)"
   ]
  },
  {
   "cell_type": "code",
   "execution_count": 55,
   "metadata": {},
   "outputs": [
    {
     "data": {
      "text/html": [
       "<div>\n",
       "<style scoped>\n",
       "    .dataframe tbody tr th:only-of-type {\n",
       "        vertical-align: middle;\n",
       "    }\n",
       "\n",
       "    .dataframe tbody tr th {\n",
       "        vertical-align: top;\n",
       "    }\n",
       "\n",
       "    .dataframe thead th {\n",
       "        text-align: right;\n",
       "    }\n",
       "</style>\n",
       "<table border=\"1\" class=\"dataframe\">\n",
       "  <thead>\n",
       "    <tr style=\"text-align: right;\">\n",
       "      <th>gender</th>\n",
       "      <th>남</th>\n",
       "      <th>여</th>\n",
       "    </tr>\n",
       "    <tr>\n",
       "      <th>year</th>\n",
       "      <th></th>\n",
       "      <th></th>\n",
       "    </tr>\n",
       "  </thead>\n",
       "  <tbody>\n",
       "    <tr>\n",
       "      <th>2008</th>\n",
       "      <td>353</td>\n",
       "      <td>285</td>\n",
       "    </tr>\n",
       "    <tr>\n",
       "      <th>2009</th>\n",
       "      <td>436</td>\n",
       "      <td>326</td>\n",
       "    </tr>\n",
       "    <tr>\n",
       "      <th>2010</th>\n",
       "      <td>459</td>\n",
       "      <td>320</td>\n",
       "    </tr>\n",
       "    <tr>\n",
       "      <th>2011</th>\n",
       "      <td>421</td>\n",
       "      <td>341</td>\n",
       "    </tr>\n",
       "    <tr>\n",
       "      <th>2012</th>\n",
       "      <td>420</td>\n",
       "      <td>372</td>\n",
       "    </tr>\n",
       "    <tr>\n",
       "      <th>2013</th>\n",
       "      <td>443</td>\n",
       "      <td>381</td>\n",
       "    </tr>\n",
       "    <tr>\n",
       "      <th>2014</th>\n",
       "      <td>443</td>\n",
       "      <td>410</td>\n",
       "    </tr>\n",
       "    <tr>\n",
       "      <th>2015</th>\n",
       "      <td>448</td>\n",
       "      <td>443</td>\n",
       "    </tr>\n",
       "    <tr>\n",
       "      <th>2016</th>\n",
       "      <td>387</td>\n",
       "      <td>407</td>\n",
       "    </tr>\n",
       "    <tr>\n",
       "      <th>2017</th>\n",
       "      <td>395</td>\n",
       "      <td>423</td>\n",
       "    </tr>\n",
       "    <tr>\n",
       "      <th>2018</th>\n",
       "      <td>362</td>\n",
       "      <td>448</td>\n",
       "    </tr>\n",
       "    <tr>\n",
       "      <th>2019</th>\n",
       "      <td>379</td>\n",
       "      <td>442</td>\n",
       "    </tr>\n",
       "    <tr>\n",
       "      <th>2020</th>\n",
       "      <td>309</td>\n",
       "      <td>378</td>\n",
       "    </tr>\n",
       "    <tr>\n",
       "      <th>2021</th>\n",
       "      <td>292</td>\n",
       "      <td>384</td>\n",
       "    </tr>\n",
       "  </tbody>\n",
       "</table>\n",
       "</div>"
      ],
      "text/plain": [
       "gender    남    여\n",
       "year            \n",
       "2008    353  285\n",
       "2009    436  326\n",
       "2010    459  320\n",
       "2011    421  341\n",
       "2012    420  372\n",
       "2013    443  381\n",
       "2014    443  410\n",
       "2015    448  443\n",
       "2016    387  407\n",
       "2017    395  423\n",
       "2018    362  448\n",
       "2019    379  442\n",
       "2020    309  378\n",
       "2021    292  384"
      ]
     },
     "execution_count": 55,
     "metadata": {},
     "output_type": "execute_result"
    }
   ],
   "source": [
    "pd.crosstab(df['year'],df['gender'])"
   ]
  },
  {
   "cell_type": "code",
   "execution_count": 54,
   "metadata": {},
   "outputs": [
    {
     "data": {
      "text/html": [
       "<div>\n",
       "<style scoped>\n",
       "    .dataframe tbody tr th:only-of-type {\n",
       "        vertical-align: middle;\n",
       "    }\n",
       "\n",
       "    .dataframe tbody tr th {\n",
       "        vertical-align: top;\n",
       "    }\n",
       "\n",
       "    .dataframe thead th {\n",
       "        text-align: right;\n",
       "    }\n",
       "</style>\n",
       "<table border=\"1\" class=\"dataframe\">\n",
       "  <thead>\n",
       "    <tr style=\"text-align: right;\">\n",
       "      <th>gender</th>\n",
       "      <th>남</th>\n",
       "      <th>여</th>\n",
       "    </tr>\n",
       "    <tr>\n",
       "      <th>year</th>\n",
       "      <th></th>\n",
       "      <th></th>\n",
       "    </tr>\n",
       "  </thead>\n",
       "  <tbody>\n",
       "    <tr>\n",
       "      <th>2008</th>\n",
       "      <td>0.553292</td>\n",
       "      <td>0.446708</td>\n",
       "    </tr>\n",
       "    <tr>\n",
       "      <th>2009</th>\n",
       "      <td>0.572178</td>\n",
       "      <td>0.427822</td>\n",
       "    </tr>\n",
       "    <tr>\n",
       "      <th>2010</th>\n",
       "      <td>0.589217</td>\n",
       "      <td>0.410783</td>\n",
       "    </tr>\n",
       "    <tr>\n",
       "      <th>2011</th>\n",
       "      <td>0.552493</td>\n",
       "      <td>0.447507</td>\n",
       "    </tr>\n",
       "    <tr>\n",
       "      <th>2012</th>\n",
       "      <td>0.530303</td>\n",
       "      <td>0.469697</td>\n",
       "    </tr>\n",
       "    <tr>\n",
       "      <th>2013</th>\n",
       "      <td>0.537621</td>\n",
       "      <td>0.462379</td>\n",
       "    </tr>\n",
       "    <tr>\n",
       "      <th>2014</th>\n",
       "      <td>0.519343</td>\n",
       "      <td>0.480657</td>\n",
       "    </tr>\n",
       "    <tr>\n",
       "      <th>2015</th>\n",
       "      <td>0.502806</td>\n",
       "      <td>0.497194</td>\n",
       "    </tr>\n",
       "    <tr>\n",
       "      <th>2016</th>\n",
       "      <td>0.487406</td>\n",
       "      <td>0.512594</td>\n",
       "    </tr>\n",
       "    <tr>\n",
       "      <th>2017</th>\n",
       "      <td>0.482885</td>\n",
       "      <td>0.517115</td>\n",
       "    </tr>\n",
       "    <tr>\n",
       "      <th>2018</th>\n",
       "      <td>0.446914</td>\n",
       "      <td>0.553086</td>\n",
       "    </tr>\n",
       "    <tr>\n",
       "      <th>2019</th>\n",
       "      <td>0.461632</td>\n",
       "      <td>0.538368</td>\n",
       "    </tr>\n",
       "    <tr>\n",
       "      <th>2020</th>\n",
       "      <td>0.449782</td>\n",
       "      <td>0.550218</td>\n",
       "    </tr>\n",
       "    <tr>\n",
       "      <th>2021</th>\n",
       "      <td>0.431953</td>\n",
       "      <td>0.568047</td>\n",
       "    </tr>\n",
       "  </tbody>\n",
       "</table>\n",
       "</div>"
      ],
      "text/plain": [
       "gender         남         여\n",
       "year                      \n",
       "2008    0.553292  0.446708\n",
       "2009    0.572178  0.427822\n",
       "2010    0.589217  0.410783\n",
       "2011    0.552493  0.447507\n",
       "2012    0.530303  0.469697\n",
       "2013    0.537621  0.462379\n",
       "2014    0.519343  0.480657\n",
       "2015    0.502806  0.497194\n",
       "2016    0.487406  0.512594\n",
       "2017    0.482885  0.517115\n",
       "2018    0.446914  0.553086\n",
       "2019    0.461632  0.538368\n",
       "2020    0.449782  0.550218\n",
       "2021    0.431953  0.568047"
      ]
     },
     "execution_count": 54,
     "metadata": {},
     "output_type": "execute_result"
    }
   ],
   "source": [
    "pd.crosstab(df['year'],df['gender'],normalize='index')"
   ]
  },
  {
   "cell_type": "code",
   "execution_count": 61,
   "metadata": {},
   "outputs": [
    {
     "data": {
      "text/plain": [
       "131"
      ]
     },
     "execution_count": 61,
     "metadata": {},
     "output_type": "execute_result"
    }
   ],
   "source": [
    "ref_kim.loc[ref_kim['year']==2020,'artiId'].nunique()"
   ]
  },
  {
   "cell_type": "code",
   "execution_count": 62,
   "metadata": {},
   "outputs": [
    {
     "data": {
      "text/plain": [
       "102"
      ]
     },
     "execution_count": 62,
     "metadata": {},
     "output_type": "execute_result"
    }
   ],
   "source": [
    "ref_kim.loc[ref_kim['year']==2021,'artiId'].nunique()"
   ]
  },
  {
   "cell_type": "code",
   "execution_count": 47,
   "metadata": {},
   "outputs": [
    {
     "data": {
      "text/plain": [
       "63"
      ]
     },
     "execution_count": 47,
     "metadata": {},
     "output_type": "execute_result"
    }
   ],
   "source": [
    "ref_kim.loc[(ref_kim['gender']=='남')&(ref_kim['year']==2020),'artiId'].nunique()"
   ]
  },
  {
   "cell_type": "code",
   "execution_count": 48,
   "metadata": {},
   "outputs": [
    {
     "data": {
      "text/plain": [
       "42"
      ]
     },
     "execution_count": 48,
     "metadata": {},
     "output_type": "execute_result"
    }
   ],
   "source": [
    "ref_kim.loc[(ref_kim['gender']=='남')&(ref_kim['year']==2021),'artiId'].nunique()"
   ]
  },
  {
   "cell_type": "code",
   "execution_count": 64,
   "metadata": {},
   "outputs": [
    {
     "data": {
      "text/plain": [
       "0.3969465648854962"
      ]
     },
     "execution_count": 64,
     "metadata": {},
     "output_type": "execute_result"
    }
   ],
   "source": [
    "ref_kim.loc[(ref_kim['gender']=='여')&(ref_kim['year']==2020),'artiId'].nunique() / 131"
   ]
  },
  {
   "cell_type": "code",
   "execution_count": 63,
   "metadata": {},
   "outputs": [
    {
     "data": {
      "text/plain": [
       "0.38235294117647056"
      ]
     },
     "execution_count": 63,
     "metadata": {},
     "output_type": "execute_result"
    }
   ],
   "source": [
    "ref_kim.loc[(ref_kim['gender']=='여')&(ref_kim['year']==2021),'artiId'].nunique() / 102"
   ]
  },
  {
   "cell_type": "code",
   "execution_count": 65,
   "metadata": {},
   "outputs": [
    {
     "data": {
      "text/html": [
       "<div>\n",
       "<style scoped>\n",
       "    .dataframe tbody tr th:only-of-type {\n",
       "        vertical-align: middle;\n",
       "    }\n",
       "\n",
       "    .dataframe tbody tr th {\n",
       "        vertical-align: top;\n",
       "    }\n",
       "\n",
       "    .dataframe thead th {\n",
       "        text-align: right;\n",
       "    }\n",
       "</style>\n",
       "<table border=\"1\" class=\"dataframe\">\n",
       "  <thead>\n",
       "    <tr style=\"text-align: right;\">\n",
       "      <th></th>\n",
       "      <th>refebibl-id</th>\n",
       "      <th>artiId</th>\n",
       "      <th>type-code</th>\n",
       "      <th>type-name</th>\n",
       "      <th>title</th>\n",
       "      <th>uri</th>\n",
       "      <th>author</th>\n",
       "      <th>lod_author</th>\n",
       "      <th>classification</th>\n",
       "      <th>pubilisher</th>\n",
       "      <th>...</th>\n",
       "      <th>degree</th>\n",
       "      <th>university</th>\n",
       "      <th>department</th>\n",
       "      <th>url</th>\n",
       "      <th>citation-day</th>\n",
       "      <th>site-name</th>\n",
       "      <th>registration-day</th>\n",
       "      <th>conference-name</th>\n",
       "      <th>year</th>\n",
       "      <th>gender</th>\n",
       "    </tr>\n",
       "  </thead>\n",
       "  <tbody>\n",
       "    <tr>\n",
       "      <th>0</th>\n",
       "      <td>REF019661669</td>\n",
       "      <td>ART001320254</td>\n",
       "      <td>3</td>\n",
       "      <td>단행본</td>\n",
       "      <td>- 卷 一 第 一編 地文地理</td>\n",
       "      <td>NaN</td>\n",
       "      <td>장지연</td>\n",
       "      <td>NaN</td>\n",
       "      <td>NaN</td>\n",
       "      <td>大韓新地誌</td>\n",
       "      <td>...</td>\n",
       "      <td>NaN</td>\n",
       "      <td>NaN</td>\n",
       "      <td>NaN</td>\n",
       "      <td>NaN</td>\n",
       "      <td>NaN</td>\n",
       "      <td>NaN</td>\n",
       "      <td>NaN</td>\n",
       "      <td>NaN</td>\n",
       "      <td>2009</td>\n",
       "      <td>여</td>\n",
       "    </tr>\n",
       "    <tr>\n",
       "      <th>1</th>\n",
       "      <td>REF019661674</td>\n",
       "      <td>ART001320254</td>\n",
       "      <td>1</td>\n",
       "      <td>학술지(정기간행물)</td>\n",
       "      <td>1910년대 박은식의 사상 변화와 역사인식</td>\n",
       "      <td>NaN</td>\n",
       "      <td>김도향</td>\n",
       "      <td>NaN</td>\n",
       "      <td>NaN</td>\n",
       "      <td>NaN</td>\n",
       "      <td>...</td>\n",
       "      <td>NaN</td>\n",
       "      <td>NaN</td>\n",
       "      <td>NaN</td>\n",
       "      <td>NaN</td>\n",
       "      <td>NaN</td>\n",
       "      <td>NaN</td>\n",
       "      <td>NaN</td>\n",
       "      <td>NaN</td>\n",
       "      <td>2009</td>\n",
       "      <td>여</td>\n",
       "    </tr>\n",
       "    <tr>\n",
       "      <th>2</th>\n",
       "      <td>REF019661680</td>\n",
       "      <td>ART001320254</td>\n",
       "      <td>1</td>\n",
       "      <td>학술지(정기간행물)</td>\n",
       "      <td>근대 한국 신화학의 태동― 단군 담론을 중심으로 ―</td>\n",
       "      <td>NaN</td>\n",
       "      <td>하정현</td>\n",
       "      <td>NaN</td>\n",
       "      <td>NaN</td>\n",
       "      <td>한국종교학회</td>\n",
       "      <td>...</td>\n",
       "      <td>NaN</td>\n",
       "      <td>NaN</td>\n",
       "      <td>NaN</td>\n",
       "      <td>NaN</td>\n",
       "      <td>NaN</td>\n",
       "      <td>NaN</td>\n",
       "      <td>NaN</td>\n",
       "      <td>NaN</td>\n",
       "      <td>2009</td>\n",
       "      <td>여</td>\n",
       "    </tr>\n",
       "    <tr>\n",
       "      <th>3</th>\n",
       "      <td>REF019661679</td>\n",
       "      <td>ART001320254</td>\n",
       "      <td>1</td>\n",
       "      <td>학술지(정기간행물)</td>\n",
       "      <td>근대계몽기 단군 신화의 탈신화화와 재신화화</td>\n",
       "      <td>NaN</td>\n",
       "      <td>조현설</td>\n",
       "      <td>NaN</td>\n",
       "      <td>NaN</td>\n",
       "      <td>민족문학사학회</td>\n",
       "      <td>...</td>\n",
       "      <td>NaN</td>\n",
       "      <td>NaN</td>\n",
       "      <td>NaN</td>\n",
       "      <td>NaN</td>\n",
       "      <td>NaN</td>\n",
       "      <td>NaN</td>\n",
       "      <td>NaN</td>\n",
       "      <td>NaN</td>\n",
       "      <td>2009</td>\n",
       "      <td>여</td>\n",
       "    </tr>\n",
       "    <tr>\n",
       "      <th>4</th>\n",
       "      <td>REF019661681</td>\n",
       "      <td>ART001320254</td>\n",
       "      <td>5</td>\n",
       "      <td>학위논문</td>\n",
       "      <td>근대계몽기 소설에 나타난 우의성 연구</td>\n",
       "      <td>NaN</td>\n",
       "      <td>홍순애</td>\n",
       "      <td>NaN</td>\n",
       "      <td>NaN</td>\n",
       "      <td>NaN</td>\n",
       "      <td>...</td>\n",
       "      <td>박사</td>\n",
       "      <td>서강대학교</td>\n",
       "      <td>NaN</td>\n",
       "      <td>NaN</td>\n",
       "      <td>NaN</td>\n",
       "      <td>NaN</td>\n",
       "      <td>NaN</td>\n",
       "      <td>NaN</td>\n",
       "      <td>2009</td>\n",
       "      <td>여</td>\n",
       "    </tr>\n",
       "    <tr>\n",
       "      <th>...</th>\n",
       "      <td>...</td>\n",
       "      <td>...</td>\n",
       "      <td>...</td>\n",
       "      <td>...</td>\n",
       "      <td>...</td>\n",
       "      <td>...</td>\n",
       "      <td>...</td>\n",
       "      <td>...</td>\n",
       "      <td>...</td>\n",
       "      <td>...</td>\n",
       "      <td>...</td>\n",
       "      <td>...</td>\n",
       "      <td>...</td>\n",
       "      <td>...</td>\n",
       "      <td>...</td>\n",
       "      <td>...</td>\n",
       "      <td>...</td>\n",
       "      <td>...</td>\n",
       "      <td>...</td>\n",
       "      <td>...</td>\n",
       "      <td>...</td>\n",
       "    </tr>\n",
       "    <tr>\n",
       "      <th>326560</th>\n",
       "      <td>REF060835606</td>\n",
       "      <td>ART002792436</td>\n",
       "      <td>3</td>\n",
       "      <td>단행본</td>\n",
       "      <td>내재하는 아시아</td>\n",
       "      <td>NaN</td>\n",
       "      <td>다케우치 요시미</td>\n",
       "      <td>Takeuchi, Yoshimi</td>\n",
       "      <td>NaN</td>\n",
       "      <td>휴머니스트</td>\n",
       "      <td>...</td>\n",
       "      <td>NaN</td>\n",
       "      <td>NaN</td>\n",
       "      <td>NaN</td>\n",
       "      <td>NaN</td>\n",
       "      <td>NaN</td>\n",
       "      <td>NaN</td>\n",
       "      <td>NaN</td>\n",
       "      <td>NaN</td>\n",
       "      <td>2021</td>\n",
       "      <td>남</td>\n",
       "    </tr>\n",
       "    <tr>\n",
       "      <th>326561</th>\n",
       "      <td>REF060835607</td>\n",
       "      <td>ART002792436</td>\n",
       "      <td>3</td>\n",
       "      <td>단행본</td>\n",
       "      <td>‘Historical Significance of Tagore’s 1924 Chin...</td>\n",
       "      <td>NaN</td>\n",
       "      <td>Wei Liming</td>\n",
       "      <td>Wei, Liming</td>\n",
       "      <td>NaN</td>\n",
       "      <td>SAGE</td>\n",
       "      <td>...</td>\n",
       "      <td>NaN</td>\n",
       "      <td>NaN</td>\n",
       "      <td>NaN</td>\n",
       "      <td>NaN</td>\n",
       "      <td>NaN</td>\n",
       "      <td>NaN</td>\n",
       "      <td>NaN</td>\n",
       "      <td>NaN</td>\n",
       "      <td>2021</td>\n",
       "      <td>남</td>\n",
       "    </tr>\n",
       "    <tr>\n",
       "      <th>326562</th>\n",
       "      <td>REF058438440</td>\n",
       "      <td>ART002714777</td>\n",
       "      <td>3</td>\n",
       "      <td>단행본</td>\n",
       "      <td>여자들이 글 못 쓰게 만드는 방법</td>\n",
       "      <td>NaN</td>\n",
       "      <td>조애나 러스</td>\n",
       "      <td>Russ, Joanna</td>\n",
       "      <td>NaN</td>\n",
       "      <td>낮은산</td>\n",
       "      <td>...</td>\n",
       "      <td>NaN</td>\n",
       "      <td>NaN</td>\n",
       "      <td>NaN</td>\n",
       "      <td>NaN</td>\n",
       "      <td>NaN</td>\n",
       "      <td>NaN</td>\n",
       "      <td>NaN</td>\n",
       "      <td>NaN</td>\n",
       "      <td>2021</td>\n",
       "      <td>NaN</td>\n",
       "    </tr>\n",
       "    <tr>\n",
       "      <th>326563</th>\n",
       "      <td>REF058438438</td>\n",
       "      <td>ART002714777</td>\n",
       "      <td>3</td>\n",
       "      <td>단행본</td>\n",
       "      <td>The Country You Have Never Seen: Essays and Re...</td>\n",
       "      <td>NaN</td>\n",
       "      <td>Joanna Russ</td>\n",
       "      <td>Russ, Joanna</td>\n",
       "      <td>NaN</td>\n",
       "      <td>Liverpool University Press</td>\n",
       "      <td>...</td>\n",
       "      <td>NaN</td>\n",
       "      <td>NaN</td>\n",
       "      <td>NaN</td>\n",
       "      <td>NaN</td>\n",
       "      <td>NaN</td>\n",
       "      <td>NaN</td>\n",
       "      <td>NaN</td>\n",
       "      <td>NaN</td>\n",
       "      <td>2021</td>\n",
       "      <td>NaN</td>\n",
       "    </tr>\n",
       "    <tr>\n",
       "      <th>326564</th>\n",
       "      <td>REF058438439</td>\n",
       "      <td>ART002714777</td>\n",
       "      <td>3</td>\n",
       "      <td>단행본</td>\n",
       "      <td>에스에프 에스프리: SF를 읽을 때 우리가 생각할 것들</td>\n",
       "      <td>NaN</td>\n",
       "      <td>셰릴 빈트</td>\n",
       "      <td>Vint, Sherryl</td>\n",
       "      <td>NaN</td>\n",
       "      <td>아르테</td>\n",
       "      <td>...</td>\n",
       "      <td>NaN</td>\n",
       "      <td>NaN</td>\n",
       "      <td>NaN</td>\n",
       "      <td>NaN</td>\n",
       "      <td>NaN</td>\n",
       "      <td>NaN</td>\n",
       "      <td>NaN</td>\n",
       "      <td>NaN</td>\n",
       "      <td>2021</td>\n",
       "      <td>NaN</td>\n",
       "    </tr>\n",
       "  </tbody>\n",
       "</table>\n",
       "<p>326565 rows × 28 columns</p>\n",
       "</div>"
      ],
      "text/plain": [
       "         refebibl-id        artiId  type-code   type-name  \\\n",
       "0       REF019661669  ART001320254          3         단행본   \n",
       "1       REF019661674  ART001320254          1  학술지(정기간행물)   \n",
       "2       REF019661680  ART001320254          1  학술지(정기간행물)   \n",
       "3       REF019661679  ART001320254          1  학술지(정기간행물)   \n",
       "4       REF019661681  ART001320254          5        학위논문   \n",
       "...              ...           ...        ...         ...   \n",
       "326560  REF060835606  ART002792436          3         단행본   \n",
       "326561  REF060835607  ART002792436          3         단행본   \n",
       "326562  REF058438440  ART002714777          3         단행본   \n",
       "326563  REF058438438  ART002714777          3         단행본   \n",
       "326564  REF058438439  ART002714777          3         단행본   \n",
       "\n",
       "                                                    title  uri       author  \\\n",
       "0                                         - 卷 一 第 一編 地文地理  NaN          장지연   \n",
       "1                                 1910년대 박은식의 사상 변화와 역사인식  NaN          김도향   \n",
       "2                            근대 한국 신화학의 태동― 단군 담론을 중심으로 ―  NaN          하정현   \n",
       "3                                 근대계몽기 단군 신화의 탈신화화와 재신화화  NaN          조현설   \n",
       "4                                    근대계몽기 소설에 나타난 우의성 연구  NaN          홍순애   \n",
       "...                                                   ...  ...          ...   \n",
       "326560                                           내재하는 아시아  NaN     다케우치 요시미   \n",
       "326561  ‘Historical Significance of Tagore’s 1924 Chin...  NaN   Wei Liming   \n",
       "326562                                 여자들이 글 못 쓰게 만드는 방법  NaN       조애나 러스   \n",
       "326563  The Country You Have Never Seen: Essays and Re...  NaN  Joanna Russ   \n",
       "326564                     에스에프 에스프리: SF를 읽을 때 우리가 생각할 것들  NaN        셰릴 빈트   \n",
       "\n",
       "               lod_author  classification                  pubilisher  ...  \\\n",
       "0                     NaN             NaN                       大韓新地誌  ...   \n",
       "1                     NaN             NaN                         NaN  ...   \n",
       "2                     NaN             NaN                      한국종교학회  ...   \n",
       "3                     NaN             NaN                     민족문학사학회  ...   \n",
       "4                     NaN             NaN                         NaN  ...   \n",
       "...                   ...             ...                         ...  ...   \n",
       "326560  Takeuchi, Yoshimi             NaN                       휴머니스트  ...   \n",
       "326561        Wei, Liming             NaN                        SAGE  ...   \n",
       "326562       Russ, Joanna             NaN                         낮은산  ...   \n",
       "326563       Russ, Joanna             NaN  Liverpool University Press  ...   \n",
       "326564      Vint, Sherryl             NaN                         아르테  ...   \n",
       "\n",
       "       degree university department  url citation-day site-name  \\\n",
       "0         NaN        NaN        NaN  NaN          NaN       NaN   \n",
       "1         NaN        NaN        NaN  NaN          NaN       NaN   \n",
       "2         NaN        NaN        NaN  NaN          NaN       NaN   \n",
       "3         NaN        NaN        NaN  NaN          NaN       NaN   \n",
       "4          박사      서강대학교        NaN  NaN          NaN       NaN   \n",
       "...       ...        ...        ...  ...          ...       ...   \n",
       "326560    NaN        NaN        NaN  NaN          NaN       NaN   \n",
       "326561    NaN        NaN        NaN  NaN          NaN       NaN   \n",
       "326562    NaN        NaN        NaN  NaN          NaN       NaN   \n",
       "326563    NaN        NaN        NaN  NaN          NaN       NaN   \n",
       "326564    NaN        NaN        NaN  NaN          NaN       NaN   \n",
       "\n",
       "       registration-day conference-name  year gender  \n",
       "0                   NaN             NaN  2009      여  \n",
       "1                   NaN             NaN  2009      여  \n",
       "2                   NaN             NaN  2009      여  \n",
       "3                   NaN             NaN  2009      여  \n",
       "4                   NaN             NaN  2009      여  \n",
       "...                 ...             ...   ...    ...  \n",
       "326560              NaN             NaN  2021      남  \n",
       "326561              NaN             NaN  2021      남  \n",
       "326562              NaN             NaN  2021    NaN  \n",
       "326563              NaN             NaN  2021    NaN  \n",
       "326564              NaN             NaN  2021    NaN  \n",
       "\n",
       "[326565 rows x 28 columns]"
      ]
     },
     "execution_count": 65,
     "metadata": {},
     "output_type": "execute_result"
    }
   ],
   "source": [
    "ref_df"
   ]
  }
 ],
 "metadata": {
  "kernelspec": {
   "display_name": "python311",
   "language": "python",
   "name": "python3"
  },
  "language_info": {
   "codemirror_mode": {
    "name": "ipython",
    "version": 3
   },
   "file_extension": ".py",
   "mimetype": "text/x-python",
   "name": "python",
   "nbconvert_exporter": "python",
   "pygments_lexer": "ipython3",
   "version": "3.11.6"
  },
  "orig_nbformat": 4
 },
 "nbformat": 4,
 "nbformat_minor": 2
}
