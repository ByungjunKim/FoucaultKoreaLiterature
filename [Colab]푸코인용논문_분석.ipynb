{
  "cells": [
    {
      "cell_type": "markdown",
      "metadata": {
        "id": "view-in-github",
        "colab_type": "text"
      },
      "source": [
        "<a href=\"https://colab.research.google.com/github/ByungjunKim/FoucaultKoreanLiterature/blob/main/%5BColab%5D%ED%91%B8%EC%BD%94%EC%9D%B8%EC%9A%A9%EB%85%BC%EB%AC%B8_%EB%B6%84%EC%84%9D.ipynb\" target=\"_parent\"><img src=\"https://colab.research.google.com/assets/colab-badge.svg\" alt=\"Open In Colab\"/></a>"
      ]
    },
    {
      "cell_type": "markdown",
      "metadata": {
        "id": "Qzn4ivBiVe3e"
      },
      "source": [
        "# 푸코 인용 논문 분석"
      ]
    },
    {
      "cell_type": "code",
      "execution_count": null,
      "metadata": {
        "id": "GbieX4q5Ve3i"
      },
      "outputs": [],
      "source": [
        "import pandas as pd\n",
        "import ast\n",
        "# matplotlib 폰트설정\n",
        "import matplotlib.pyplot as plt\n",
        "# https://github.com/killiansheriff/LovelyPlots\n",
        "# plt.style.use(['ipynb','use_mathtext','colors5-light'])\n",
        "# plt.rc('font', family='Malgun Gothic')\n",
        "# print(plt.rcParams['font.family'])\n",
        "plt.rcParams[\"figure.dpi\"] = 240 # DPI 고화질로 향상\n",
        "\n",
        "from scipy.stats import chi2_contingency\n",
        "from scipy.stats import fisher_exact\n",
        "from itertools import combinations\n",
        "from statsmodels.sandbox.stats.multicomp import MultiComparison\n",
        "from statsmodels.stats.multitest import multipletests\n",
        "import scipy.stats"
      ]
    },
    {
      "cell_type": "code",
      "source": [
        "# github clone\n",
        "!git clone https://github.com/ByungjunKim/FoucaultKoreanLiterature.git\n",
        "!mkdir stats"
      ],
      "metadata": {
        "id": "Se2hxcxOVlNT"
      },
      "execution_count": null,
      "outputs": []
    },
    {
      "cell_type": "code",
      "source": [
        "# 시각화 필요 라이브러리 불러오기\n",
        "import matplotlib.font_manager as fm\n",
        "import os\n",
        "import matplotlib.pyplot as plt\n",
        "\n",
        "# apt-get : 패키지 설치 명령어\n",
        "# -qq : 에러외의 메세지 숨기는 옵션키\n",
        "!apt-get -qq install fonts-nanum\n",
        "\n",
        "\n",
        "fe = fm.FontEntry(\n",
        "    fname=r'/usr/share/fonts/truetype/nanum/NanumGothic.ttf', # ttf 파일이 저장되어 있는 경로\n",
        "    name='NanumGothic')                        # 이 폰트의 원하는 이름 설정\n",
        "fm.fontManager.ttflist.insert(0, fe)              # Matplotlib에 폰트 추가\n",
        "plt.rcParams.update({'font.size': 12, 'font.family': 'NanumGothic'}) # 폰트 설정\n",
        "\n",
        "# 테스트 해보기\n",
        "fig = plt.figure(figsize=(10, 10))\n",
        "fig, ax = plt.subplots(subplot_kw=dict(projection='3d'), figsize=(10, 10))\n",
        "\n",
        "graph_title = '시험'\n",
        "ax.set_title(f'{graph_title}')\n",
        "ax.set_xlabel('야호 (Hz)', labelpad=20)\n",
        "ax.set_ylabel('시간 (s)', labelpad=20)\n",
        "ax.set_zlabel('이건 뭐지 (dB/Hz)', labelpad=20)\n",
        "\n",
        "ax.view_init(20, 20)\n",
        "plt.show()"
      ],
      "metadata": {
        "id": "J4VpS-0lV_ZV"
      },
      "execution_count": null,
      "outputs": []
    },
    {
      "cell_type": "markdown",
      "metadata": {
        "id": "Xo6BohD9Ve3k"
      },
      "source": [
        "### 1. 어떤 푸코의 저작이 인용되었나?"
      ]
    },
    {
      "cell_type": "code",
      "execution_count": null,
      "metadata": {
        "id": "3xsY433-Ve3l"
      },
      "outputs": [],
      "source": [
        "df = pd.read_pickle('./FoucaultKoreanLiterature/231005_2008_2021_df.pkl') # 한국현대문학 논문 서지정보\n",
        "ref_df = pd.read_pickle('./FoucaultKoreanLiterature/231005_2008_2021_ref_df.pkl') # 한국현대문학 논문 참고문헌\n",
        "ref_fu = pd.read_pickle('./FoucaultKoreanLiterature/231005_2008_2021_ref_fu.pkl') # 푸코 인용 논문 참고문헌"
      ]
    },
    {
      "cell_type": "code",
      "execution_count": null,
      "metadata": {
        "id": "JGKTqMvbVe3l"
      },
      "outputs": [],
      "source": [
        "# 전체 분석 대상 논문 게재 추이\n",
        "df['year'].value_counts().sort_index().plot()"
      ]
    },
    {
      "cell_type": "code",
      "execution_count": null,
      "metadata": {
        "id": "DHRnuF1WVe3l"
      },
      "outputs": [],
      "source": [
        "# 푸코 인용 추이\n",
        "print(ref_fu['year'].value_counts().sort_index())\n",
        "ref_fu['year'].value_counts().sort_index().plot()"
      ]
    },
    {
      "cell_type": "code",
      "execution_count": null,
      "metadata": {
        "id": "jbhuOlggVe3m"
      },
      "outputs": [],
      "source": [
        "ref_fu['classification'].value_counts(normalize=True)"
      ]
    },
    {
      "cell_type": "code",
      "execution_count": null,
      "metadata": {
        "id": "SPqabzbEVe3m"
      },
      "outputs": [],
      "source": [
        "# pd.DataFrame(ref_fu['uri'].value_counts()).reset_index().to_excel('./stats/푸코저작_인용.xlsx')"
      ]
    },
    {
      "cell_type": "code",
      "execution_count": null,
      "metadata": {
        "id": "1dHiILdTVe3n"
      },
      "outputs": [],
      "source": [
        "pd.crosstab(ref_fu['classification'],ref_fu['year'],normalize='columns')"
      ]
    },
    {
      "cell_type": "code",
      "execution_count": null,
      "metadata": {
        "id": "gpbSpJFLVe3n"
      },
      "outputs": [],
      "source": [
        "pd.crosstab(ref_fu['classification'],ref_fu['year'],normalize='columns').T.plot(style=['-', '--', ':', '-.'])\n",
        "# 범례 위치 설정: 플롯의 오른쪽 바깥쪽\n",
        "plt.legend(loc='upper left', bbox_to_anchor=(1, 1))\n",
        "\n",
        "# 축 조정 (범례에 의해 가려지는 부분 방지)\n",
        "plt.subplots_adjust(right=0.75)"
      ]
    },
    {
      "cell_type": "code",
      "execution_count": null,
      "metadata": {
        "id": "viNa9vfLVe3o"
      },
      "outputs": [],
      "source": [
        "# 연도별 주요 저작 인용 패턴\n",
        "pd.crosstab(ref_fu['uri'],ref_fu['year'],margins=True).to_excel('./stats/연도별_푸코저작_인용.xlsx')"
      ]
    },
    {
      "cell_type": "code",
      "execution_count": null,
      "metadata": {
        "id": "DdGB3xO-Ve3o"
      },
      "outputs": [],
      "source": [
        "# 성별 주요 저작 인용 패턴\n",
        "pd.crosstab(ref_fu['uri'],ref_fu['gender'],margins=True).to_excel('./stats/성별_푸코저작_인용.xlsx')"
      ]
    },
    {
      "cell_type": "code",
      "execution_count": null,
      "metadata": {
        "id": "_yE5X--mVe3o"
      },
      "outputs": [],
      "source": [
        "top10 = pd.read_excel('./FoucaultKoreanLiterature/stats/연도별_푸코저작_인용_Top10.xlsx')\n",
        "top10"
      ]
    },
    {
      "cell_type": "code",
      "execution_count": null,
      "metadata": {
        "id": "fFr2lzOcVe3p"
      },
      "outputs": [],
      "source": [
        "# Simplifying the line styles to ensure compatibility\n",
        "line_styles = ['-', '--', '-.', ':', (0, (3, 10, 1, 10))]\n",
        "\n",
        "# Re-plotting\n",
        "plt.figure(figsize=(15, 8))\n",
        "\n",
        "for i, title in enumerate(top10['title']):\n",
        "    plt.plot(top10.columns[1:], top10.iloc[i, 1:], linestyle=line_styles[i % len(line_styles)], label=title)\n",
        "\n",
        "# plt.title('연도별 미셸 푸코 저작 인용 추이')\n",
        "plt.xlabel('연도')\n",
        "plt.ylabel('인용 횟수')\n",
        "plt.xticks(rotation=45)\n",
        "plt.legend(title='작품', loc='upper left')\n",
        "plt.grid(True)\n",
        "\n",
        "# Improving font properties for better display of Korean characters\n",
        "# plt.rcParams['font.family'] = 'NanumGothic'\n",
        "plt.rcParams['font.size'] = 12\n",
        "# 범례 위치 설정: 플롯의 오른쪽 바깥쪽\n",
        "plt.legend(loc='upper left', bbox_to_anchor=(1, 1))\n",
        "\n",
        "# 축 조정 (범례에 의해 가려지는 부분 방지)\n",
        "plt.subplots_adjust(right=0.75)\n",
        "plt.show()"
      ]
    },
    {
      "cell_type": "markdown",
      "metadata": {
        "id": "z7ubnp7LVe3p"
      },
      "source": [
        "### 2. 누가 인용하는가?"
      ]
    },
    {
      "cell_type": "markdown",
      "metadata": {
        "id": "cn5-BTi2Ve3p"
      },
      "source": [
        "##### 세대"
      ]
    },
    {
      "cell_type": "code",
      "execution_count": null,
      "metadata": {
        "id": "vmjW58iFVe3p"
      },
      "outputs": [],
      "source": [
        "df.loc[~pd.isna(df['birth']),'birth'] = df[~pd.isna(df['birth'])]['birth'].map(lambda x:1900 + int(x))\n",
        "df['birth']"
      ]
    },
    {
      "cell_type": "code",
      "execution_count": null,
      "metadata": {
        "id": "7xPG2pXqVe3q"
      },
      "outputs": [],
      "source": [
        "# 생년 세대\n",
        "df.loc[~pd.isna(df['birth']),'birth_gen'] = \\\n",
        "pd.cut(df.loc[~pd.isna(df['birth']),'birth'],bins=[1900,1940,1950,1960,1970,1980,1990,2000],labels=['40년생 이전','40년대생','50년대생','60년대생','70년대생','80년대생','90년생 이후'],right=False)"
      ]
    },
    {
      "cell_type": "code",
      "execution_count": null,
      "metadata": {
        "id": "ee5AfXHWVe3q"
      },
      "outputs": [],
      "source": [
        "# 생년 세대 merge\n",
        "ref_fu = ref_fu.merge(df[['artiId','birth_gen']])"
      ]
    },
    {
      "cell_type": "code",
      "execution_count": null,
      "metadata": {
        "id": "J1JMPDopVe3q"
      },
      "outputs": [],
      "source": [
        "# 세대별 주요 저작 인용 패턴\n",
        "pd.crosstab(ref_fu['uri'],ref_fu['birth_gen'],margins=True).to_excel('./stats/세대별_푸코저작_인용.xlsx')"
      ]
    },
    {
      "cell_type": "code",
      "execution_count": null,
      "metadata": {
        "id": "JvEyZvogVe3q"
      },
      "outputs": [],
      "source": [
        "df['birth_gen'].value_counts()"
      ]
    },
    {
      "cell_type": "code",
      "execution_count": null,
      "metadata": {
        "id": "HJQsjOTrVe3q"
      },
      "outputs": [],
      "source": [
        "df['birth_gen'].value_counts(normalize=True)"
      ]
    },
    {
      "cell_type": "code",
      "execution_count": null,
      "metadata": {
        "id": "_dOcSARyVe3q"
      },
      "outputs": [],
      "source": [
        "pd.crosstab(df['birth_gen'],df['mf'])"
      ]
    },
    {
      "cell_type": "code",
      "execution_count": null,
      "metadata": {
        "id": "xd8tko8NVe3q"
      },
      "outputs": [],
      "source": [
        "pd.crosstab(df['birth_gen'],df['mf'],normalize='index')"
      ]
    },
    {
      "cell_type": "code",
      "execution_count": null,
      "metadata": {
        "id": "h8gTKzJ-Ve3r"
      },
      "outputs": [],
      "source": [
        "# Continggency Table 생성\n",
        "birth_mf = pd.crosstab(df['birth_gen'],df['mf'])\n",
        "birth_mf = birth_mf[1:]\n",
        "birth_mf.columns = ['푸코_비인용','푸코_인용']\n",
        "with pd.ExcelWriter(f'./stats/푸코_인용_인구사회정보.xlsx',mode='w',engine='openpyxl') as writer:\n",
        "    (birth_mf).to_excel(writer,sheet_name='세대-푸코 Table')\n",
        "birth_mf"
      ]
    },
    {
      "cell_type": "code",
      "execution_count": null,
      "metadata": {
        "id": "IXvfBskqVe3r"
      },
      "outputs": [],
      "source": [
        "chi2_contingency(birth_mf)"
      ]
    },
    {
      "cell_type": "code",
      "execution_count": null,
      "metadata": {
        "id": "ChYMNhZSVe3r"
      },
      "outputs": [],
      "source": [
        "# 50 ~ 80년대생만\n",
        "chi2_contingency(birth_mf[1:-1])"
      ]
    },
    {
      "cell_type": "markdown",
      "metadata": {
        "id": "WM2doc3XVe3r"
      },
      "source": [
        "##### 성별"
      ]
    },
    {
      "cell_type": "code",
      "execution_count": null,
      "metadata": {
        "id": "Cc9dqd5PVe3r"
      },
      "outputs": [],
      "source": [
        "df['gender'].value_counts()"
      ]
    },
    {
      "cell_type": "code",
      "execution_count": null,
      "metadata": {
        "id": "nnkgHLqzVe3r"
      },
      "outputs": [],
      "source": [
        "# Continggency Table 생성\n",
        "gender_mf = pd.crosstab(df['gender'],df['mf'])\n",
        "gender_mf.columns = ['푸코_비인용','푸코_인용']\n",
        "with pd.ExcelWriter('./stats/푸코_인용_인구사회정보.xlsx',mode='a',engine='openpyxl') as writer:\n",
        "    (gender_mf).to_excel(writer,sheet_name='성별-푸코 Table')"
      ]
    },
    {
      "cell_type": "code",
      "execution_count": null,
      "metadata": {
        "id": "En8YSbo6Ve3r"
      },
      "outputs": [],
      "source": [
        "gender_mf"
      ]
    },
    {
      "cell_type": "code",
      "execution_count": null,
      "metadata": {
        "id": "OykStv08Ve3r"
      },
      "outputs": [],
      "source": [
        "chi2_contingency(gender_mf)"
      ]
    },
    {
      "cell_type": "code",
      "execution_count": null,
      "metadata": {
        "id": "4P96KVLbVe3r"
      },
      "outputs": [],
      "source": [
        "pd.crosstab(df['gender'],df['mf'],normalize='index')"
      ]
    },
    {
      "cell_type": "markdown",
      "metadata": {
        "id": "T4J2pLeIVe3s"
      },
      "source": [
        "##### 김윤식"
      ]
    },
    {
      "cell_type": "code",
      "execution_count": null,
      "metadata": {
        "id": "h5wHK1kEVe3s"
      },
      "outputs": [],
      "source": [
        "# 논문 게재 year 컬럼 추가\n",
        "ref_df = ref_df.merge(df[['artiId','year','gender']])"
      ]
    },
    {
      "cell_type": "code",
      "execution_count": null,
      "metadata": {
        "id": "vHch-A_YVe3s"
      },
      "outputs": [],
      "source": [
        "ref_kim = ref_df.loc[ref_df['author']=='김윤식'].reset_index(drop=True)"
      ]
    },
    {
      "cell_type": "code",
      "execution_count": null,
      "metadata": {
        "id": "cA3hax2VVe3s"
      },
      "outputs": [],
      "source": [
        "pd.crosstab(df['year'],df['gender'])"
      ]
    },
    {
      "cell_type": "code",
      "execution_count": null,
      "metadata": {
        "id": "XuSTf-vfVe3s"
      },
      "outputs": [],
      "source": [
        "pd.crosstab(df['year'],df['gender'],normalize='index')"
      ]
    }
  ],
  "metadata": {
    "kernelspec": {
      "display_name": "python311",
      "language": "python",
      "name": "python3"
    },
    "language_info": {
      "codemirror_mode": {
        "name": "ipython",
        "version": 3
      },
      "file_extension": ".py",
      "mimetype": "text/x-python",
      "name": "python",
      "nbconvert_exporter": "python",
      "pygments_lexer": "ipython3",
      "version": "3.11.6"
    },
    "orig_nbformat": 4,
    "colab": {
      "provenance": [],
      "include_colab_link": true
    }
  },
  "nbformat": 4,
  "nbformat_minor": 0
}